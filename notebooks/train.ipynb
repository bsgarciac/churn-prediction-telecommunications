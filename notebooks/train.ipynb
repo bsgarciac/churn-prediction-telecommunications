{
 "cells": [
  {
   "cell_type": "code",
   "execution_count": 1,
   "metadata": {
    "colab": {
     "base_uri": "https://localhost:8080/"
    },
    "id": "682IVy621ZUL",
    "outputId": "89ce3b7f-662e-4897-ab7f-35cdc2e00861"
   },
   "outputs": [],
   "source": [
    "%%capture logs \n",
    "!pip install shap"
   ]
  },
  {
   "cell_type": "markdown",
   "metadata": {
    "id": "p0cHcuqi2V0s"
   },
   "source": [
    "# 0. Importar librerias"
   ]
  },
  {
   "cell_type": "code",
   "execution_count": 2,
   "metadata": {
    "id": "jlAzTS9-2XPx"
   },
   "outputs": [],
   "source": [
    "# Data analysis\n",
    "import pandas as pd\n",
    "import numpy as np\n",
    "\n",
    "# Api Rest\n",
    "import joblib\n",
    "import copy\n",
    "import shap\n",
    "\n",
    "# Charts\n",
    "import matplotlib.pyplot as plt\n",
    "import seaborn as sns\n",
    "\n",
    "# Model training\n",
    "from sklearn.model_selection import train_test_split\n",
    "from sklearn.impute import SimpleImputer\n",
    "from sklearn.pipeline import Pipeline\n",
    "from sklearn.preprocessing import OneHotEncoder, StandardScaler\n",
    "from sklearn.compose import ColumnTransformer, make_column_selector\n",
    "from sklearn.base import BaseEstimator, TransformerMixin\n",
    "from sklearn.metrics import classification_report\n",
    "from sklearn.tree import DecisionTreeClassifier\n",
    "from sklearn.model_selection import GridSearchCV\n",
    "from sklearn.ensemble import RandomForestClassifier, GradientBoostingClassifier\n",
    "from sklearn.linear_model import LogisticRegression\n",
    "from sklearn.metrics import f1_score, make_scorer\n",
    "from sklearn.neural_network import MLPClassifier\n",
    "\n",
    "# Warnings\n",
    "import warnings\n"
   ]
  },
  {
   "cell_type": "code",
   "execution_count": 3,
   "metadata": {},
   "outputs": [],
   "source": [
    "# Suppressing the warning\n",
    "warnings.filterwarnings(\"ignore\", category=FutureWarning)"
   ]
  },
  {
   "cell_type": "markdown",
   "metadata": {
    "id": "grbU-FqL2bDz"
   },
   "source": [
    "# 1. Cargar Datos"
   ]
  },
  {
   "cell_type": "code",
   "execution_count": 4,
   "metadata": {
    "id": "XHFuSc5S2ZAp"
   },
   "outputs": [],
   "source": [
    "churn_future = pd.read_json('data/churn_future.json')\n",
    "churn_historic = pd.read_json('data/churn_historic.json')"
   ]
  },
  {
   "cell_type": "markdown",
   "metadata": {
    "id": "hm44g4sNyDhd"
   },
   "source": [
    "# 2 División Train-test"
   ]
  },
  {
   "cell_type": "code",
   "execution_count": 5,
   "metadata": {
    "id": "WW1yEZbCj4H4"
   },
   "outputs": [],
   "source": [
    "X_train, X_test, y_train, y_test = train_test_split(churn_historic.drop(['Churn'],axis=1),churn_historic['Churn'], test_size=0.2, random_state=24)"
   ]
  },
  {
   "cell_type": "code",
   "execution_count": 6,
   "metadata": {
    "id": "MY1DoEq64OiN"
   },
   "outputs": [],
   "source": [
    "y_train = y_train.replace({'Yes':1,'No':0})\n",
    "y_test = y_test.replace({'Yes':1,'No':0})"
   ]
  },
  {
   "cell_type": "markdown",
   "metadata": {
    "id": "A3lgd2ZP876U"
   },
   "source": [
    "# 3 Pipelines y modelado\n",
    "\n",
    "Después del análisis hecho en el anterior notebook, podemos crear un Pipeline que resuma todos los procesamiento de datos necesario."
   ]
  },
  {
   "cell_type": "markdown",
   "metadata": {
    "id": "vcoEMt2w3dUX"
   },
   "source": [
    "## 3.1 Pipeline de preparación de datos con modelo baseline"
   ]
  },
  {
   "cell_type": "markdown",
   "metadata": {
    "id": "qFKsN96DNZSU"
   },
   "source": [
    "### 3.1.1 Creación de pipeline"
   ]
  },
  {
   "cell_type": "code",
   "execution_count": 7,
   "metadata": {
    "id": "gO9KV-fH24bq"
   },
   "outputs": [],
   "source": [
    "class CustomTransformer(BaseEstimator, TransformerMixin):\n",
    "    def fit(self, X, y=None):\n",
    "        return self\n",
    "\n",
    "    def parse_charges_float(self, x):\n",
    "        if type(x)== str:\n",
    "            if len(x) > 0:\n",
    "                  return float(x)\n",
    "            else:\n",
    "                  return np.nan\n",
    "        else:\n",
    "            return x\n",
    "\n",
    "    def transform(self, X, y=None):\n",
    "        X_copy = X.copy()\n",
    "        X_copy.replace('No internet service', 'No', inplace=True) # Reemplazar no internet service por no dado que son equivalentes teniendo en cuenta negocio\n",
    "        X_copy.replace('No phone service', 'No', inplace=True) # Reemplazar no phone service por no dado que son equivalentes teniendo en cuenta el negocio\n",
    "        X_copy['TotalCharges'] = X_copy['TotalCharges'].apply(lambda x : self.parse_charges_float(x)) # Convertir la variables totalcharges de string a float\n",
    "        X_copy['TotalCharges'].replace(np.nan, np.mean(X_copy['TotalCharges']), inplace=True) # reemplazar nulos resultantes de totalcharges por la media de la variable\n",
    "        X_copy = X_copy.drop(['customerID'],axis=1) # Eliminar variable customerid dado que no tiene información de negocio\n",
    "        X_copy['SeniorCitizen'] = X_copy['SeniorCitizen'].astype(str) # Modificar la variable senior citizen para que sea procesada como string y no como entero como estaba inicialmente construida\n",
    "        return X_copy\n",
    "\n",
    "def baseline_pipe():\n",
    "    decision_tree_params = {\n",
    "        'criterion': 'gini',\n",
    "        'max_depth': 10,\n",
    "        'random_state' :24\n",
    "    }\n",
    "    dec_tree = Pipeline([\n",
    "        ('custom_proccesing', CustomTransformer()),\n",
    "        (\"transformer\", ColumnTransformer([\n",
    "            (\"num\", StandardScaler(),  make_column_selector(dtype_include=np.number)),\n",
    "            (\"categorical\", OneHotEncoder(sparse=False), make_column_selector(dtype_include=object))\n",
    "        ], remainder=\"passthrough\")),\n",
    "        ('decision_tree', DecisionTreeClassifier(**decision_tree_params))\n",
    "    ])\n",
    "    return dec_tree"
   ]
  },
  {
   "cell_type": "markdown",
   "metadata": {
    "id": "NU_olj6m5wPi"
   },
   "source": [
    "Creación de modelo baseline para valores arbitrarios de un árbol de decisión sin hacer búsqueda de hiperparámetros."
   ]
  },
  {
   "cell_type": "code",
   "execution_count": 8,
   "metadata": {
    "id": "Re6A9wfF63dF"
   },
   "outputs": [],
   "source": [
    "# Crear un modelo baseline\n",
    "baseline_model_pipe = baseline_pipe()"
   ]
  },
  {
   "cell_type": "markdown",
   "metadata": {
    "id": "_vjdPi7oNXo4"
   },
   "source": [
    "### 3.1.2 Entrenar Modelo baseline"
   ]
  },
  {
   "cell_type": "code",
   "execution_count": 9,
   "metadata": {
    "colab": {
     "base_uri": "https://localhost:8080/",
     "height": 244
    },
    "id": "823SbV4ZMluC",
    "outputId": "9539a0fd-4fa3-432c-e49a-7ce0ea8d13a2"
   },
   "outputs": [
    {
     "data": {
      "text/html": [
       "<style>#sk-container-id-1 {color: black;}#sk-container-id-1 pre{padding: 0;}#sk-container-id-1 div.sk-toggleable {background-color: white;}#sk-container-id-1 label.sk-toggleable__label {cursor: pointer;display: block;width: 100%;margin-bottom: 0;padding: 0.3em;box-sizing: border-box;text-align: center;}#sk-container-id-1 label.sk-toggleable__label-arrow:before {content: \"▸\";float: left;margin-right: 0.25em;color: #696969;}#sk-container-id-1 label.sk-toggleable__label-arrow:hover:before {color: black;}#sk-container-id-1 div.sk-estimator:hover label.sk-toggleable__label-arrow:before {color: black;}#sk-container-id-1 div.sk-toggleable__content {max-height: 0;max-width: 0;overflow: hidden;text-align: left;background-color: #f0f8ff;}#sk-container-id-1 div.sk-toggleable__content pre {margin: 0.2em;color: black;border-radius: 0.25em;background-color: #f0f8ff;}#sk-container-id-1 input.sk-toggleable__control:checked~div.sk-toggleable__content {max-height: 200px;max-width: 100%;overflow: auto;}#sk-container-id-1 input.sk-toggleable__control:checked~label.sk-toggleable__label-arrow:before {content: \"▾\";}#sk-container-id-1 div.sk-estimator input.sk-toggleable__control:checked~label.sk-toggleable__label {background-color: #d4ebff;}#sk-container-id-1 div.sk-label input.sk-toggleable__control:checked~label.sk-toggleable__label {background-color: #d4ebff;}#sk-container-id-1 input.sk-hidden--visually {border: 0;clip: rect(1px 1px 1px 1px);clip: rect(1px, 1px, 1px, 1px);height: 1px;margin: -1px;overflow: hidden;padding: 0;position: absolute;width: 1px;}#sk-container-id-1 div.sk-estimator {font-family: monospace;background-color: #f0f8ff;border: 1px dotted black;border-radius: 0.25em;box-sizing: border-box;margin-bottom: 0.5em;}#sk-container-id-1 div.sk-estimator:hover {background-color: #d4ebff;}#sk-container-id-1 div.sk-parallel-item::after {content: \"\";width: 100%;border-bottom: 1px solid gray;flex-grow: 1;}#sk-container-id-1 div.sk-label:hover label.sk-toggleable__label {background-color: #d4ebff;}#sk-container-id-1 div.sk-serial::before {content: \"\";position: absolute;border-left: 1px solid gray;box-sizing: border-box;top: 0;bottom: 0;left: 50%;z-index: 0;}#sk-container-id-1 div.sk-serial {display: flex;flex-direction: column;align-items: center;background-color: white;padding-right: 0.2em;padding-left: 0.2em;position: relative;}#sk-container-id-1 div.sk-item {position: relative;z-index: 1;}#sk-container-id-1 div.sk-parallel {display: flex;align-items: stretch;justify-content: center;background-color: white;position: relative;}#sk-container-id-1 div.sk-item::before, #sk-container-id-1 div.sk-parallel-item::before {content: \"\";position: absolute;border-left: 1px solid gray;box-sizing: border-box;top: 0;bottom: 0;left: 50%;z-index: -1;}#sk-container-id-1 div.sk-parallel-item {display: flex;flex-direction: column;z-index: 1;position: relative;background-color: white;}#sk-container-id-1 div.sk-parallel-item:first-child::after {align-self: flex-end;width: 50%;}#sk-container-id-1 div.sk-parallel-item:last-child::after {align-self: flex-start;width: 50%;}#sk-container-id-1 div.sk-parallel-item:only-child::after {width: 0;}#sk-container-id-1 div.sk-dashed-wrapped {border: 1px dashed gray;margin: 0 0.4em 0.5em 0.4em;box-sizing: border-box;padding-bottom: 0.4em;background-color: white;}#sk-container-id-1 div.sk-label label {font-family: monospace;font-weight: bold;display: inline-block;line-height: 1.2em;}#sk-container-id-1 div.sk-label-container {text-align: center;}#sk-container-id-1 div.sk-container {/* jupyter's `normalize.less` sets `[hidden] { display: none; }` but bootstrap.min.css set `[hidden] { display: none !important; }` so we also need the `!important` here to be able to override the default hidden behavior on the sphinx rendered scikit-learn.org. See: https://github.com/scikit-learn/scikit-learn/issues/21755 */display: inline-block !important;position: relative;}#sk-container-id-1 div.sk-text-repr-fallback {display: none;}</style><div id=\"sk-container-id-1\" class=\"sk-top-container\"><div class=\"sk-text-repr-fallback\"><pre>Pipeline(steps=[(&#x27;custom_proccesing&#x27;, CustomTransformer()),\n",
       "                (&#x27;transformer&#x27;,\n",
       "                 ColumnTransformer(remainder=&#x27;passthrough&#x27;,\n",
       "                                   transformers=[(&#x27;num&#x27;, StandardScaler(),\n",
       "                                                  &lt;sklearn.compose._column_transformer.make_column_selector object at 0x7f6d5d58f3d0&gt;),\n",
       "                                                 (&#x27;categorical&#x27;,\n",
       "                                                  OneHotEncoder(sparse=False),\n",
       "                                                  &lt;sklearn.compose._column_transformer.make_column_selector object at 0x7f6d5d584cd0&gt;)])),\n",
       "                (&#x27;decision_tree&#x27;,\n",
       "                 DecisionTreeClassifier(max_depth=10, random_state=24))])</pre><b>In a Jupyter environment, please rerun this cell to show the HTML representation or trust the notebook. <br />On GitHub, the HTML representation is unable to render, please try loading this page with nbviewer.org.</b></div><div class=\"sk-container\" hidden><div class=\"sk-item sk-dashed-wrapped\"><div class=\"sk-label-container\"><div class=\"sk-label sk-toggleable\"><input class=\"sk-toggleable__control sk-hidden--visually\" id=\"sk-estimator-id-1\" type=\"checkbox\" ><label for=\"sk-estimator-id-1\" class=\"sk-toggleable__label sk-toggleable__label-arrow\">Pipeline</label><div class=\"sk-toggleable__content\"><pre>Pipeline(steps=[(&#x27;custom_proccesing&#x27;, CustomTransformer()),\n",
       "                (&#x27;transformer&#x27;,\n",
       "                 ColumnTransformer(remainder=&#x27;passthrough&#x27;,\n",
       "                                   transformers=[(&#x27;num&#x27;, StandardScaler(),\n",
       "                                                  &lt;sklearn.compose._column_transformer.make_column_selector object at 0x7f6d5d58f3d0&gt;),\n",
       "                                                 (&#x27;categorical&#x27;,\n",
       "                                                  OneHotEncoder(sparse=False),\n",
       "                                                  &lt;sklearn.compose._column_transformer.make_column_selector object at 0x7f6d5d584cd0&gt;)])),\n",
       "                (&#x27;decision_tree&#x27;,\n",
       "                 DecisionTreeClassifier(max_depth=10, random_state=24))])</pre></div></div></div><div class=\"sk-serial\"><div class=\"sk-item\"><div class=\"sk-estimator sk-toggleable\"><input class=\"sk-toggleable__control sk-hidden--visually\" id=\"sk-estimator-id-2\" type=\"checkbox\" ><label for=\"sk-estimator-id-2\" class=\"sk-toggleable__label sk-toggleable__label-arrow\">CustomTransformer</label><div class=\"sk-toggleable__content\"><pre>CustomTransformer()</pre></div></div></div><div class=\"sk-item sk-dashed-wrapped\"><div class=\"sk-label-container\"><div class=\"sk-label sk-toggleable\"><input class=\"sk-toggleable__control sk-hidden--visually\" id=\"sk-estimator-id-3\" type=\"checkbox\" ><label for=\"sk-estimator-id-3\" class=\"sk-toggleable__label sk-toggleable__label-arrow\">transformer: ColumnTransformer</label><div class=\"sk-toggleable__content\"><pre>ColumnTransformer(remainder=&#x27;passthrough&#x27;,\n",
       "                  transformers=[(&#x27;num&#x27;, StandardScaler(),\n",
       "                                 &lt;sklearn.compose._column_transformer.make_column_selector object at 0x7f6d5d58f3d0&gt;),\n",
       "                                (&#x27;categorical&#x27;, OneHotEncoder(sparse=False),\n",
       "                                 &lt;sklearn.compose._column_transformer.make_column_selector object at 0x7f6d5d584cd0&gt;)])</pre></div></div></div><div class=\"sk-parallel\"><div class=\"sk-parallel-item\"><div class=\"sk-item\"><div class=\"sk-label-container\"><div class=\"sk-label sk-toggleable\"><input class=\"sk-toggleable__control sk-hidden--visually\" id=\"sk-estimator-id-4\" type=\"checkbox\" ><label for=\"sk-estimator-id-4\" class=\"sk-toggleable__label sk-toggleable__label-arrow\">num</label><div class=\"sk-toggleable__content\"><pre>&lt;sklearn.compose._column_transformer.make_column_selector object at 0x7f6d5d58f3d0&gt;</pre></div></div></div><div class=\"sk-serial\"><div class=\"sk-item\"><div class=\"sk-estimator sk-toggleable\"><input class=\"sk-toggleable__control sk-hidden--visually\" id=\"sk-estimator-id-5\" type=\"checkbox\" ><label for=\"sk-estimator-id-5\" class=\"sk-toggleable__label sk-toggleable__label-arrow\">StandardScaler</label><div class=\"sk-toggleable__content\"><pre>StandardScaler()</pre></div></div></div></div></div></div><div class=\"sk-parallel-item\"><div class=\"sk-item\"><div class=\"sk-label-container\"><div class=\"sk-label sk-toggleable\"><input class=\"sk-toggleable__control sk-hidden--visually\" id=\"sk-estimator-id-6\" type=\"checkbox\" ><label for=\"sk-estimator-id-6\" class=\"sk-toggleable__label sk-toggleable__label-arrow\">categorical</label><div class=\"sk-toggleable__content\"><pre>&lt;sklearn.compose._column_transformer.make_column_selector object at 0x7f6d5d584cd0&gt;</pre></div></div></div><div class=\"sk-serial\"><div class=\"sk-item\"><div class=\"sk-estimator sk-toggleable\"><input class=\"sk-toggleable__control sk-hidden--visually\" id=\"sk-estimator-id-7\" type=\"checkbox\" ><label for=\"sk-estimator-id-7\" class=\"sk-toggleable__label sk-toggleable__label-arrow\">OneHotEncoder</label><div class=\"sk-toggleable__content\"><pre>OneHotEncoder(sparse=False)</pre></div></div></div></div></div></div><div class=\"sk-parallel-item\"><div class=\"sk-item\"><div class=\"sk-label-container\"><div class=\"sk-label sk-toggleable\"><input class=\"sk-toggleable__control sk-hidden--visually\" id=\"sk-estimator-id-8\" type=\"checkbox\" ><label for=\"sk-estimator-id-8\" class=\"sk-toggleable__label sk-toggleable__label-arrow\">remainder</label><div class=\"sk-toggleable__content\"><pre>[]</pre></div></div></div><div class=\"sk-serial\"><div class=\"sk-item\"><div class=\"sk-estimator sk-toggleable\"><input class=\"sk-toggleable__control sk-hidden--visually\" id=\"sk-estimator-id-9\" type=\"checkbox\" ><label for=\"sk-estimator-id-9\" class=\"sk-toggleable__label sk-toggleable__label-arrow\">passthrough</label><div class=\"sk-toggleable__content\"><pre>passthrough</pre></div></div></div></div></div></div></div></div><div class=\"sk-item\"><div class=\"sk-estimator sk-toggleable\"><input class=\"sk-toggleable__control sk-hidden--visually\" id=\"sk-estimator-id-10\" type=\"checkbox\" ><label for=\"sk-estimator-id-10\" class=\"sk-toggleable__label sk-toggleable__label-arrow\">DecisionTreeClassifier</label><div class=\"sk-toggleable__content\"><pre>DecisionTreeClassifier(max_depth=10, random_state=24)</pre></div></div></div></div></div></div></div>"
      ],
      "text/plain": [
       "Pipeline(steps=[('custom_proccesing', CustomTransformer()),\n",
       "                ('transformer',\n",
       "                 ColumnTransformer(remainder='passthrough',\n",
       "                                   transformers=[('num', StandardScaler(),\n",
       "                                                  <sklearn.compose._column_transformer.make_column_selector object at 0x7f6d5d58f3d0>),\n",
       "                                                 ('categorical',\n",
       "                                                  OneHotEncoder(sparse=False),\n",
       "                                                  <sklearn.compose._column_transformer.make_column_selector object at 0x7f6d5d584cd0>)])),\n",
       "                ('decision_tree',\n",
       "                 DecisionTreeClassifier(max_depth=10, random_state=24))])"
      ]
     },
     "execution_count": 9,
     "metadata": {},
     "output_type": "execute_result"
    }
   ],
   "source": [
    "baseline_model_pipe.fit(X_train, y_train)"
   ]
  },
  {
   "cell_type": "markdown",
   "metadata": {
    "id": "cgoukoyLNibU"
   },
   "source": [
    "### 3.1.3 Resultados Entrenamiento modelo baseline"
   ]
  },
  {
   "cell_type": "code",
   "execution_count": 10,
   "metadata": {
    "id": "_12dedseNVdB"
   },
   "outputs": [],
   "source": [
    "y_train_pred = baseline_model_pipe.predict(X_train)"
   ]
  },
  {
   "cell_type": "code",
   "execution_count": 11,
   "metadata": {
    "colab": {
     "base_uri": "https://localhost:8080/"
    },
    "id": "wQQhoxPwNp1L",
    "outputId": "a8d20a40-32a2-4f71-a781-9366878176fa"
   },
   "outputs": [
    {
     "name": "stdout",
     "output_type": "stream",
     "text": [
      "              precision    recall  f1-score   support\n",
      "\n",
      "           0       0.91      0.93      0.92      3501\n",
      "           1       0.80      0.74      0.77      1299\n",
      "\n",
      "    accuracy                           0.88      4800\n",
      "   macro avg       0.85      0.84      0.85      4800\n",
      "weighted avg       0.88      0.88      0.88      4800\n",
      "\n"
     ]
    }
   ],
   "source": [
    "print(classification_report(y_train, y_train_pred))"
   ]
  },
  {
   "cell_type": "markdown",
   "metadata": {
    "id": "8mq3S6G_N1Jn"
   },
   "source": [
    "### 3.1.4 Resultados Test modelo baseline"
   ]
  },
  {
   "cell_type": "code",
   "execution_count": 12,
   "metadata": {
    "id": "v_IOe0XFNzSm"
   },
   "outputs": [],
   "source": [
    "y_test_pred = baseline_model_pipe.predict(X_test)"
   ]
  },
  {
   "cell_type": "code",
   "execution_count": 13,
   "metadata": {
    "colab": {
     "base_uri": "https://localhost:8080/"
    },
    "id": "JYSKso7xOOc5",
    "outputId": "aeb6cc8d-dd4f-4be9-fa13-d769bf050d23"
   },
   "outputs": [
    {
     "name": "stdout",
     "output_type": "stream",
     "text": [
      "              precision    recall  f1-score   support\n",
      "\n",
      "           0       0.84      0.86      0.85       907\n",
      "           1       0.54      0.51      0.52       293\n",
      "\n",
      "    accuracy                           0.77      1200\n",
      "   macro avg       0.69      0.68      0.69      1200\n",
      "weighted avg       0.77      0.77      0.77      1200\n",
      "\n"
     ]
    }
   ],
   "source": [
    "print(classification_report(y_test, y_test_pred))"
   ]
  },
  {
   "cell_type": "markdown",
   "metadata": {
    "id": "omkY2ODx5-yr"
   },
   "source": [
    "Encontramos claramente un sobre ajuste de los datos, dado que el rendimiento para la clase 1 (es churn), es notoriamente inferior con el dataset de test en comparación con el dataset de train. Esto podría favorecerse de mejorar el modelo con su ensamble random forest y una buena búsqueda de hiperparáemetros."
   ]
  },
  {
   "cell_type": "markdown",
   "metadata": {
    "id": "ZMiYkXtgGWM9"
   },
   "source": [
    "## 3.2 Búsqueda del mejor modelo"
   ]
  },
  {
   "cell_type": "markdown",
   "metadata": {
    "id": "qC31o1xLbKg3"
   },
   "source": [
    "### 3.2.1 Creación de grid search para modelo\n",
    "\n",
    "Se genera una búsqueda de hiperparámetros empleando un gridsearch para los modelos de ensamble GradientBoosting, RandomForest y para el modelo de regresión logística. Las búsqueda se realizará con validación cruzada y la métrica de f1."
   ]
  },
  {
   "cell_type": "code",
   "execution_count": 14,
   "metadata": {
    "id": "DDQ63h9MYB4H"
   },
   "outputs": [],
   "source": [
    "class ClfSwitcher(BaseEstimator):\n",
    "\n",
    "    def __init__(self, estimator = None):#DecisionTreeClassifier(),):\n",
    "        \"\"\"A Custom BaseEstimator that can switch between classifiers.\n",
    "        :param estimator: sklearn object - The classifier\n",
    "        \"\"\"\n",
    "        self.estimator = estimator\n",
    "\n",
    "\n",
    "    def fit(self, X, y=None, **kwargs):\n",
    "        self.estimator.fit(X, y)\n",
    "        return self\n",
    "\n",
    "\n",
    "    def predict(self, X, y=None):\n",
    "        return self.estimator.predict(X)\n",
    "\n",
    "\n",
    "    def predict_proba(self, X):\n",
    "        return self.estimator.predict_proba(X)\n",
    "\n",
    "\n",
    "    def score(self, X, y):\n",
    "        return self.estimator.score(X, y)"
   ]
  },
  {
   "cell_type": "code",
   "execution_count": 15,
   "metadata": {
    "id": "jOOH2cBDPdP3"
   },
   "outputs": [],
   "source": [
    "multi_pipeline = Pipeline([\n",
    "    ('custom_proccesing', CustomTransformer()),\n",
    "    (\"transformer\", ColumnTransformer([\n",
    "        (\"num\", StandardScaler(),  make_column_selector(dtype_include=np.number)),\n",
    "        (\"categorical\", OneHotEncoder(sparse_output=False), make_column_selector(dtype_include=object))\n",
    "    ], remainder=\"passthrough\")),\n",
    "    ('clf', ClfSwitcher()),\n",
    "])\n",
    "\n",
    "parameters = [\n",
    "    {\n",
    "        'clf__estimator': [GradientBoostingClassifier()],\n",
    "        'clf__estimator__n_estimators': [50, 100, 200],\n",
    "        'clf__estimator__learning_rate': [0.1, 1.0, 10],\n",
    "        'clf__estimator__max_depth': [3, 10, 20],\n",
    "    },\n",
    "    {\n",
    "        'clf__estimator': [RandomForestClassifier()],\n",
    "        'clf__estimator__n_estimators': [50, 100, 200],\n",
    "        'clf__estimator__max_depth': [10, 20, 30],\n",
    "        'clf__estimator__min_samples_split': [2,5,7],\n",
    "        'clf__estimator__min_samples_leaf': [1,2,3],\n",
    "    },\n",
    "    {\n",
    "        'clf__estimator': [LogisticRegression()],\n",
    "        'clf__estimator__penalty': ['l2'],\n",
    "        'clf__estimator__C': [0.01, 0.1, 1, 10],\n",
    "        'clf__estimator__max_iter': [50,100,150,200],\n",
    "    },\n",
    "]\n",
    "\n",
    "f1 = make_scorer(f1_score , average='macro')"
   ]
  },
  {
   "cell_type": "code",
   "execution_count": null,
   "metadata": {},
   "outputs": [],
   "source": [
    "gscv = GridSearchCV(multi_pipeline, parameters, cv=5, n_jobs=4, return_train_score=True, verbose=3, refit='f1', scoring=[\"f1\",\"accuracy\",\"precision\", \"recall\"])\n",
    "gscv.fit(X_train, y_train)"
   ]
  },
  {
   "cell_type": "markdown",
   "metadata": {
    "id": "I7qJx6oZZGT8"
   },
   "source": [
    "Resultados de la búsqueda de hiperparámetros"
   ]
  },
  {
   "cell_type": "code",
   "execution_count": 17,
   "metadata": {
    "colab": {
     "base_uri": "https://localhost:8080/",
     "height": 759
    },
    "id": "1GEeqxCTZkWe",
    "outputId": "05104cf8-a990-4495-9d4d-7c2566c4174f"
   },
   "outputs": [
    {
     "data": {
      "text/html": [
       "<div>\n",
       "<style scoped>\n",
       "    .dataframe tbody tr th:only-of-type {\n",
       "        vertical-align: middle;\n",
       "    }\n",
       "\n",
       "    .dataframe tbody tr th {\n",
       "        vertical-align: top;\n",
       "    }\n",
       "\n",
       "    .dataframe thead th {\n",
       "        text-align: right;\n",
       "    }\n",
       "</style>\n",
       "<table border=\"1\" class=\"dataframe\">\n",
       "  <thead>\n",
       "    <tr style=\"text-align: right;\">\n",
       "      <th></th>\n",
       "      <th>mean_fit_time</th>\n",
       "      <th>std_fit_time</th>\n",
       "      <th>mean_score_time</th>\n",
       "      <th>std_score_time</th>\n",
       "      <th>param_clf__estimator</th>\n",
       "      <th>param_clf__estimator__learning_rate</th>\n",
       "      <th>param_clf__estimator__max_depth</th>\n",
       "      <th>param_clf__estimator__n_estimators</th>\n",
       "      <th>param_clf__estimator__min_samples_leaf</th>\n",
       "      <th>param_clf__estimator__min_samples_split</th>\n",
       "      <th>param_clf__estimator__C</th>\n",
       "      <th>param_clf__estimator__max_iter</th>\n",
       "      <th>param_clf__estimator__penalty</th>\n",
       "      <th>params</th>\n",
       "      <th>split0_test_f1</th>\n",
       "      <th>split1_test_f1</th>\n",
       "      <th>split2_test_f1</th>\n",
       "      <th>split3_test_f1</th>\n",
       "      <th>split4_test_f1</th>\n",
       "      <th>mean_test_f1</th>\n",
       "      <th>std_test_f1</th>\n",
       "      <th>rank_test_f1</th>\n",
       "      <th>split0_train_f1</th>\n",
       "      <th>split1_train_f1</th>\n",
       "      <th>split2_train_f1</th>\n",
       "      <th>...</th>\n",
       "      <th>mean_test_precision</th>\n",
       "      <th>std_test_precision</th>\n",
       "      <th>rank_test_precision</th>\n",
       "      <th>split0_train_precision</th>\n",
       "      <th>split1_train_precision</th>\n",
       "      <th>split2_train_precision</th>\n",
       "      <th>split3_train_precision</th>\n",
       "      <th>split4_train_precision</th>\n",
       "      <th>mean_train_precision</th>\n",
       "      <th>std_train_precision</th>\n",
       "      <th>split0_test_recall</th>\n",
       "      <th>split1_test_recall</th>\n",
       "      <th>split2_test_recall</th>\n",
       "      <th>split3_test_recall</th>\n",
       "      <th>split4_test_recall</th>\n",
       "      <th>mean_test_recall</th>\n",
       "      <th>std_test_recall</th>\n",
       "      <th>rank_test_recall</th>\n",
       "      <th>split0_train_recall</th>\n",
       "      <th>split1_train_recall</th>\n",
       "      <th>split2_train_recall</th>\n",
       "      <th>split3_train_recall</th>\n",
       "      <th>split4_train_recall</th>\n",
       "      <th>mean_train_recall</th>\n",
       "      <th>std_train_recall</th>\n",
       "    </tr>\n",
       "  </thead>\n",
       "  <tbody>\n",
       "    <tr>\n",
       "      <th>119</th>\n",
       "      <td>0.083863</td>\n",
       "      <td>0.005671</td>\n",
       "      <td>0.023309</td>\n",
       "      <td>0.004828</td>\n",
       "      <td>LogisticRegression(C=1)</td>\n",
       "      <td>NaN</td>\n",
       "      <td>NaN</td>\n",
       "      <td>NaN</td>\n",
       "      <td>NaN</td>\n",
       "      <td>NaN</td>\n",
       "      <td>1</td>\n",
       "      <td>200</td>\n",
       "      <td>l2</td>\n",
       "      <td>{'clf__estimator': LogisticRegression(C=1), 'c...</td>\n",
       "      <td>0.615385</td>\n",
       "      <td>0.569565</td>\n",
       "      <td>0.576763</td>\n",
       "      <td>0.594480</td>\n",
       "      <td>0.615385</td>\n",
       "      <td>0.594316</td>\n",
       "      <td>0.019018</td>\n",
       "      <td>1</td>\n",
       "      <td>0.602249</td>\n",
       "      <td>0.616238</td>\n",
       "      <td>0.606918</td>\n",
       "      <td>...</td>\n",
       "      <td>0.653579</td>\n",
       "      <td>0.049077</td>\n",
       "      <td>66</td>\n",
       "      <td>0.655902</td>\n",
       "      <td>0.664130</td>\n",
       "      <td>0.665517</td>\n",
       "      <td>0.660487</td>\n",
       "      <td>0.665463</td>\n",
       "      <td>0.662300</td>\n",
       "      <td>0.003686</td>\n",
       "      <td>0.597510</td>\n",
       "      <td>0.555085</td>\n",
       "      <td>0.532567</td>\n",
       "      <td>0.510949</td>\n",
       "      <td>0.543554</td>\n",
       "      <td>0.547933</td>\n",
       "      <td>0.028748</td>\n",
       "      <td>1</td>\n",
       "      <td>0.556711</td>\n",
       "      <td>0.574788</td>\n",
       "      <td>0.557803</td>\n",
       "      <td>0.556098</td>\n",
       "      <td>0.546443</td>\n",
       "      <td>0.558369</td>\n",
       "      <td>0.009166</td>\n",
       "    </tr>\n",
       "    <tr>\n",
       "      <th>118</th>\n",
       "      <td>0.082630</td>\n",
       "      <td>0.012228</td>\n",
       "      <td>0.021357</td>\n",
       "      <td>0.003148</td>\n",
       "      <td>LogisticRegression(C=1)</td>\n",
       "      <td>NaN</td>\n",
       "      <td>NaN</td>\n",
       "      <td>NaN</td>\n",
       "      <td>NaN</td>\n",
       "      <td>NaN</td>\n",
       "      <td>1</td>\n",
       "      <td>150</td>\n",
       "      <td>l2</td>\n",
       "      <td>{'clf__estimator': LogisticRegression(C=1), 'c...</td>\n",
       "      <td>0.615385</td>\n",
       "      <td>0.569565</td>\n",
       "      <td>0.576763</td>\n",
       "      <td>0.594480</td>\n",
       "      <td>0.615385</td>\n",
       "      <td>0.594316</td>\n",
       "      <td>0.019018</td>\n",
       "      <td>1</td>\n",
       "      <td>0.602249</td>\n",
       "      <td>0.616238</td>\n",
       "      <td>0.606918</td>\n",
       "      <td>...</td>\n",
       "      <td>0.653579</td>\n",
       "      <td>0.049077</td>\n",
       "      <td>66</td>\n",
       "      <td>0.655902</td>\n",
       "      <td>0.664130</td>\n",
       "      <td>0.665517</td>\n",
       "      <td>0.660487</td>\n",
       "      <td>0.665463</td>\n",
       "      <td>0.662300</td>\n",
       "      <td>0.003686</td>\n",
       "      <td>0.597510</td>\n",
       "      <td>0.555085</td>\n",
       "      <td>0.532567</td>\n",
       "      <td>0.510949</td>\n",
       "      <td>0.543554</td>\n",
       "      <td>0.547933</td>\n",
       "      <td>0.028748</td>\n",
       "      <td>1</td>\n",
       "      <td>0.556711</td>\n",
       "      <td>0.574788</td>\n",
       "      <td>0.557803</td>\n",
       "      <td>0.556098</td>\n",
       "      <td>0.546443</td>\n",
       "      <td>0.558369</td>\n",
       "      <td>0.009166</td>\n",
       "    </tr>\n",
       "    <tr>\n",
       "      <th>117</th>\n",
       "      <td>0.088145</td>\n",
       "      <td>0.004495</td>\n",
       "      <td>0.020832</td>\n",
       "      <td>0.002044</td>\n",
       "      <td>LogisticRegression(C=1)</td>\n",
       "      <td>NaN</td>\n",
       "      <td>NaN</td>\n",
       "      <td>NaN</td>\n",
       "      <td>NaN</td>\n",
       "      <td>NaN</td>\n",
       "      <td>1</td>\n",
       "      <td>100</td>\n",
       "      <td>l2</td>\n",
       "      <td>{'clf__estimator': LogisticRegression(C=1), 'c...</td>\n",
       "      <td>0.615385</td>\n",
       "      <td>0.569565</td>\n",
       "      <td>0.576763</td>\n",
       "      <td>0.594480</td>\n",
       "      <td>0.615385</td>\n",
       "      <td>0.594316</td>\n",
       "      <td>0.019018</td>\n",
       "      <td>1</td>\n",
       "      <td>0.602249</td>\n",
       "      <td>0.616238</td>\n",
       "      <td>0.606918</td>\n",
       "      <td>...</td>\n",
       "      <td>0.653579</td>\n",
       "      <td>0.049077</td>\n",
       "      <td>66</td>\n",
       "      <td>0.655902</td>\n",
       "      <td>0.664130</td>\n",
       "      <td>0.665517</td>\n",
       "      <td>0.660487</td>\n",
       "      <td>0.665463</td>\n",
       "      <td>0.662300</td>\n",
       "      <td>0.003686</td>\n",
       "      <td>0.597510</td>\n",
       "      <td>0.555085</td>\n",
       "      <td>0.532567</td>\n",
       "      <td>0.510949</td>\n",
       "      <td>0.543554</td>\n",
       "      <td>0.547933</td>\n",
       "      <td>0.028748</td>\n",
       "      <td>1</td>\n",
       "      <td>0.556711</td>\n",
       "      <td>0.574788</td>\n",
       "      <td>0.557803</td>\n",
       "      <td>0.556098</td>\n",
       "      <td>0.546443</td>\n",
       "      <td>0.558369</td>\n",
       "      <td>0.009166</td>\n",
       "    </tr>\n",
       "    <tr>\n",
       "      <th>116</th>\n",
       "      <td>0.069866</td>\n",
       "      <td>0.013595</td>\n",
       "      <td>0.022768</td>\n",
       "      <td>0.005311</td>\n",
       "      <td>LogisticRegression(C=1)</td>\n",
       "      <td>NaN</td>\n",
       "      <td>NaN</td>\n",
       "      <td>NaN</td>\n",
       "      <td>NaN</td>\n",
       "      <td>NaN</td>\n",
       "      <td>1</td>\n",
       "      <td>50</td>\n",
       "      <td>l2</td>\n",
       "      <td>{'clf__estimator': LogisticRegression(C=1), 'c...</td>\n",
       "      <td>0.615385</td>\n",
       "      <td>0.570806</td>\n",
       "      <td>0.576763</td>\n",
       "      <td>0.585987</td>\n",
       "      <td>0.612648</td>\n",
       "      <td>0.592318</td>\n",
       "      <td>0.018386</td>\n",
       "      <td>4</td>\n",
       "      <td>0.601842</td>\n",
       "      <td>0.615229</td>\n",
       "      <td>0.607741</td>\n",
       "      <td>...</td>\n",
       "      <td>0.651807</td>\n",
       "      <td>0.045764</td>\n",
       "      <td>71</td>\n",
       "      <td>0.656250</td>\n",
       "      <td>0.663043</td>\n",
       "      <td>0.664760</td>\n",
       "      <td>0.661234</td>\n",
       "      <td>0.665054</td>\n",
       "      <td>0.662068</td>\n",
       "      <td>0.003214</td>\n",
       "      <td>0.597510</td>\n",
       "      <td>0.555085</td>\n",
       "      <td>0.532567</td>\n",
       "      <td>0.503650</td>\n",
       "      <td>0.540070</td>\n",
       "      <td>0.545776</td>\n",
       "      <td>0.030805</td>\n",
       "      <td>8</td>\n",
       "      <td>0.555766</td>\n",
       "      <td>0.573848</td>\n",
       "      <td>0.559730</td>\n",
       "      <td>0.554146</td>\n",
       "      <td>0.543478</td>\n",
       "      <td>0.557394</td>\n",
       "      <td>0.009829</td>\n",
       "    </tr>\n",
       "    <tr>\n",
       "      <th>123</th>\n",
       "      <td>0.069830</td>\n",
       "      <td>0.014248</td>\n",
       "      <td>0.018495</td>\n",
       "      <td>0.003720</td>\n",
       "      <td>LogisticRegression(C=1)</td>\n",
       "      <td>NaN</td>\n",
       "      <td>NaN</td>\n",
       "      <td>NaN</td>\n",
       "      <td>NaN</td>\n",
       "      <td>NaN</td>\n",
       "      <td>10</td>\n",
       "      <td>200</td>\n",
       "      <td>l2</td>\n",
       "      <td>{'clf__estimator': LogisticRegression(C=1), 'c...</td>\n",
       "      <td>0.614072</td>\n",
       "      <td>0.569565</td>\n",
       "      <td>0.568465</td>\n",
       "      <td>0.591966</td>\n",
       "      <td>0.614173</td>\n",
       "      <td>0.591648</td>\n",
       "      <td>0.020177</td>\n",
       "      <td>5</td>\n",
       "      <td>0.602964</td>\n",
       "      <td>0.614610</td>\n",
       "      <td>0.607925</td>\n",
       "      <td>...</td>\n",
       "      <td>0.649142</td>\n",
       "      <td>0.047909</td>\n",
       "      <td>80</td>\n",
       "      <td>0.656285</td>\n",
       "      <td>0.661605</td>\n",
       "      <td>0.662500</td>\n",
       "      <td>0.660161</td>\n",
       "      <td>0.659118</td>\n",
       "      <td>0.659934</td>\n",
       "      <td>0.002164</td>\n",
       "      <td>0.597510</td>\n",
       "      <td>0.555085</td>\n",
       "      <td>0.524904</td>\n",
       "      <td>0.510949</td>\n",
       "      <td>0.543554</td>\n",
       "      <td>0.546400</td>\n",
       "      <td>0.029714</td>\n",
       "      <td>4</td>\n",
       "      <td>0.557656</td>\n",
       "      <td>0.573848</td>\n",
       "      <td>0.561657</td>\n",
       "      <td>0.560976</td>\n",
       "      <td>0.546443</td>\n",
       "      <td>0.560116</td>\n",
       "      <td>0.008771</td>\n",
       "    </tr>\n",
       "    <tr>\n",
       "      <th>121</th>\n",
       "      <td>0.069495</td>\n",
       "      <td>0.011759</td>\n",
       "      <td>0.021502</td>\n",
       "      <td>0.003172</td>\n",
       "      <td>LogisticRegression(C=1)</td>\n",
       "      <td>NaN</td>\n",
       "      <td>NaN</td>\n",
       "      <td>NaN</td>\n",
       "      <td>NaN</td>\n",
       "      <td>NaN</td>\n",
       "      <td>10</td>\n",
       "      <td>100</td>\n",
       "      <td>l2</td>\n",
       "      <td>{'clf__estimator': LogisticRegression(C=1), 'c...</td>\n",
       "      <td>0.614072</td>\n",
       "      <td>0.569565</td>\n",
       "      <td>0.568465</td>\n",
       "      <td>0.591966</td>\n",
       "      <td>0.614173</td>\n",
       "      <td>0.591648</td>\n",
       "      <td>0.020177</td>\n",
       "      <td>5</td>\n",
       "      <td>0.602964</td>\n",
       "      <td>0.614610</td>\n",
       "      <td>0.607925</td>\n",
       "      <td>...</td>\n",
       "      <td>0.649142</td>\n",
       "      <td>0.047909</td>\n",
       "      <td>80</td>\n",
       "      <td>0.656285</td>\n",
       "      <td>0.661605</td>\n",
       "      <td>0.662500</td>\n",
       "      <td>0.660161</td>\n",
       "      <td>0.659118</td>\n",
       "      <td>0.659934</td>\n",
       "      <td>0.002164</td>\n",
       "      <td>0.597510</td>\n",
       "      <td>0.555085</td>\n",
       "      <td>0.524904</td>\n",
       "      <td>0.510949</td>\n",
       "      <td>0.543554</td>\n",
       "      <td>0.546400</td>\n",
       "      <td>0.029714</td>\n",
       "      <td>4</td>\n",
       "      <td>0.557656</td>\n",
       "      <td>0.573848</td>\n",
       "      <td>0.561657</td>\n",
       "      <td>0.560976</td>\n",
       "      <td>0.546443</td>\n",
       "      <td>0.560116</td>\n",
       "      <td>0.008771</td>\n",
       "    </tr>\n",
       "    <tr>\n",
       "      <th>120</th>\n",
       "      <td>0.070681</td>\n",
       "      <td>0.011152</td>\n",
       "      <td>0.022528</td>\n",
       "      <td>0.004623</td>\n",
       "      <td>LogisticRegression(C=1)</td>\n",
       "      <td>NaN</td>\n",
       "      <td>NaN</td>\n",
       "      <td>NaN</td>\n",
       "      <td>NaN</td>\n",
       "      <td>NaN</td>\n",
       "      <td>10</td>\n",
       "      <td>50</td>\n",
       "      <td>l2</td>\n",
       "      <td>{'clf__estimator': LogisticRegression(C=1), 'c...</td>\n",
       "      <td>0.614072</td>\n",
       "      <td>0.569565</td>\n",
       "      <td>0.568465</td>\n",
       "      <td>0.591966</td>\n",
       "      <td>0.614173</td>\n",
       "      <td>0.591648</td>\n",
       "      <td>0.020177</td>\n",
       "      <td>5</td>\n",
       "      <td>0.602964</td>\n",
       "      <td>0.614610</td>\n",
       "      <td>0.607925</td>\n",
       "      <td>...</td>\n",
       "      <td>0.649142</td>\n",
       "      <td>0.047909</td>\n",
       "      <td>80</td>\n",
       "      <td>0.656285</td>\n",
       "      <td>0.661605</td>\n",
       "      <td>0.662500</td>\n",
       "      <td>0.659770</td>\n",
       "      <td>0.659118</td>\n",
       "      <td>0.659856</td>\n",
       "      <td>0.002161</td>\n",
       "      <td>0.597510</td>\n",
       "      <td>0.555085</td>\n",
       "      <td>0.524904</td>\n",
       "      <td>0.510949</td>\n",
       "      <td>0.543554</td>\n",
       "      <td>0.546400</td>\n",
       "      <td>0.029714</td>\n",
       "      <td>4</td>\n",
       "      <td>0.557656</td>\n",
       "      <td>0.573848</td>\n",
       "      <td>0.561657</td>\n",
       "      <td>0.560000</td>\n",
       "      <td>0.546443</td>\n",
       "      <td>0.559921</td>\n",
       "      <td>0.008761</td>\n",
       "    </tr>\n",
       "    <tr>\n",
       "      <th>122</th>\n",
       "      <td>0.080426</td>\n",
       "      <td>0.011802</td>\n",
       "      <td>0.022956</td>\n",
       "      <td>0.002296</td>\n",
       "      <td>LogisticRegression(C=1)</td>\n",
       "      <td>NaN</td>\n",
       "      <td>NaN</td>\n",
       "      <td>NaN</td>\n",
       "      <td>NaN</td>\n",
       "      <td>NaN</td>\n",
       "      <td>10</td>\n",
       "      <td>150</td>\n",
       "      <td>l2</td>\n",
       "      <td>{'clf__estimator': LogisticRegression(C=1), 'c...</td>\n",
       "      <td>0.614072</td>\n",
       "      <td>0.569565</td>\n",
       "      <td>0.568465</td>\n",
       "      <td>0.591966</td>\n",
       "      <td>0.614173</td>\n",
       "      <td>0.591648</td>\n",
       "      <td>0.020177</td>\n",
       "      <td>5</td>\n",
       "      <td>0.602964</td>\n",
       "      <td>0.614610</td>\n",
       "      <td>0.607925</td>\n",
       "      <td>...</td>\n",
       "      <td>0.649142</td>\n",
       "      <td>0.047909</td>\n",
       "      <td>80</td>\n",
       "      <td>0.656285</td>\n",
       "      <td>0.661605</td>\n",
       "      <td>0.662500</td>\n",
       "      <td>0.660161</td>\n",
       "      <td>0.659118</td>\n",
       "      <td>0.659934</td>\n",
       "      <td>0.002164</td>\n",
       "      <td>0.597510</td>\n",
       "      <td>0.555085</td>\n",
       "      <td>0.524904</td>\n",
       "      <td>0.510949</td>\n",
       "      <td>0.543554</td>\n",
       "      <td>0.546400</td>\n",
       "      <td>0.029714</td>\n",
       "      <td>4</td>\n",
       "      <td>0.557656</td>\n",
       "      <td>0.573848</td>\n",
       "      <td>0.561657</td>\n",
       "      <td>0.560976</td>\n",
       "      <td>0.546443</td>\n",
       "      <td>0.560116</td>\n",
       "      <td>0.008771</td>\n",
       "    </tr>\n",
       "    <tr>\n",
       "      <th>115</th>\n",
       "      <td>0.108136</td>\n",
       "      <td>0.016527</td>\n",
       "      <td>0.024337</td>\n",
       "      <td>0.003319</td>\n",
       "      <td>LogisticRegression(C=1)</td>\n",
       "      <td>NaN</td>\n",
       "      <td>NaN</td>\n",
       "      <td>NaN</td>\n",
       "      <td>NaN</td>\n",
       "      <td>NaN</td>\n",
       "      <td>0.1</td>\n",
       "      <td>200</td>\n",
       "      <td>l2</td>\n",
       "      <td>{'clf__estimator': LogisticRegression(C=1), 'c...</td>\n",
       "      <td>0.613391</td>\n",
       "      <td>0.561947</td>\n",
       "      <td>0.570825</td>\n",
       "      <td>0.580645</td>\n",
       "      <td>0.623274</td>\n",
       "      <td>0.590016</td>\n",
       "      <td>0.024069</td>\n",
       "      <td>9</td>\n",
       "      <td>0.599793</td>\n",
       "      <td>0.612788</td>\n",
       "      <td>0.603393</td>\n",
       "      <td>...</td>\n",
       "      <td>0.657877</td>\n",
       "      <td>0.048365</td>\n",
       "      <td>51</td>\n",
       "      <td>0.662100</td>\n",
       "      <td>0.671525</td>\n",
       "      <td>0.670991</td>\n",
       "      <td>0.665862</td>\n",
       "      <td>0.667081</td>\n",
       "      <td>0.667512</td>\n",
       "      <td>0.003475</td>\n",
       "      <td>0.589212</td>\n",
       "      <td>0.538136</td>\n",
       "      <td>0.517241</td>\n",
       "      <td>0.492701</td>\n",
       "      <td>0.550523</td>\n",
       "      <td>0.537562</td>\n",
       "      <td>0.032439</td>\n",
       "      <td>9</td>\n",
       "      <td>0.548204</td>\n",
       "      <td>0.563500</td>\n",
       "      <td>0.548170</td>\n",
       "      <td>0.538537</td>\n",
       "      <td>0.530632</td>\n",
       "      <td>0.545808</td>\n",
       "      <td>0.011023</td>\n",
       "    </tr>\n",
       "    <tr>\n",
       "      <th>114</th>\n",
       "      <td>0.117990</td>\n",
       "      <td>0.020170</td>\n",
       "      <td>0.032804</td>\n",
       "      <td>0.010619</td>\n",
       "      <td>LogisticRegression(C=1)</td>\n",
       "      <td>NaN</td>\n",
       "      <td>NaN</td>\n",
       "      <td>NaN</td>\n",
       "      <td>NaN</td>\n",
       "      <td>NaN</td>\n",
       "      <td>0.1</td>\n",
       "      <td>150</td>\n",
       "      <td>l2</td>\n",
       "      <td>{'clf__estimator': LogisticRegression(C=1), 'c...</td>\n",
       "      <td>0.613391</td>\n",
       "      <td>0.561947</td>\n",
       "      <td>0.570825</td>\n",
       "      <td>0.580645</td>\n",
       "      <td>0.623274</td>\n",
       "      <td>0.590016</td>\n",
       "      <td>0.024069</td>\n",
       "      <td>9</td>\n",
       "      <td>0.599793</td>\n",
       "      <td>0.612788</td>\n",
       "      <td>0.603393</td>\n",
       "      <td>...</td>\n",
       "      <td>0.657877</td>\n",
       "      <td>0.048365</td>\n",
       "      <td>51</td>\n",
       "      <td>0.662100</td>\n",
       "      <td>0.671525</td>\n",
       "      <td>0.670991</td>\n",
       "      <td>0.665862</td>\n",
       "      <td>0.667081</td>\n",
       "      <td>0.667512</td>\n",
       "      <td>0.003475</td>\n",
       "      <td>0.589212</td>\n",
       "      <td>0.538136</td>\n",
       "      <td>0.517241</td>\n",
       "      <td>0.492701</td>\n",
       "      <td>0.550523</td>\n",
       "      <td>0.537562</td>\n",
       "      <td>0.032439</td>\n",
       "      <td>9</td>\n",
       "      <td>0.548204</td>\n",
       "      <td>0.563500</td>\n",
       "      <td>0.548170</td>\n",
       "      <td>0.538537</td>\n",
       "      <td>0.530632</td>\n",
       "      <td>0.545808</td>\n",
       "      <td>0.011023</td>\n",
       "    </tr>\n",
       "  </tbody>\n",
       "</table>\n",
       "<p>10 rows × 74 columns</p>\n",
       "</div>"
      ],
      "text/plain": [
       "     mean_fit_time  std_fit_time  mean_score_time  std_score_time  \\\n",
       "119       0.083863      0.005671         0.023309        0.004828   \n",
       "118       0.082630      0.012228         0.021357        0.003148   \n",
       "117       0.088145      0.004495         0.020832        0.002044   \n",
       "116       0.069866      0.013595         0.022768        0.005311   \n",
       "123       0.069830      0.014248         0.018495        0.003720   \n",
       "121       0.069495      0.011759         0.021502        0.003172   \n",
       "120       0.070681      0.011152         0.022528        0.004623   \n",
       "122       0.080426      0.011802         0.022956        0.002296   \n",
       "115       0.108136      0.016527         0.024337        0.003319   \n",
       "114       0.117990      0.020170         0.032804        0.010619   \n",
       "\n",
       "        param_clf__estimator param_clf__estimator__learning_rate  \\\n",
       "119  LogisticRegression(C=1)                                 NaN   \n",
       "118  LogisticRegression(C=1)                                 NaN   \n",
       "117  LogisticRegression(C=1)                                 NaN   \n",
       "116  LogisticRegression(C=1)                                 NaN   \n",
       "123  LogisticRegression(C=1)                                 NaN   \n",
       "121  LogisticRegression(C=1)                                 NaN   \n",
       "120  LogisticRegression(C=1)                                 NaN   \n",
       "122  LogisticRegression(C=1)                                 NaN   \n",
       "115  LogisticRegression(C=1)                                 NaN   \n",
       "114  LogisticRegression(C=1)                                 NaN   \n",
       "\n",
       "    param_clf__estimator__max_depth param_clf__estimator__n_estimators  \\\n",
       "119                             NaN                                NaN   \n",
       "118                             NaN                                NaN   \n",
       "117                             NaN                                NaN   \n",
       "116                             NaN                                NaN   \n",
       "123                             NaN                                NaN   \n",
       "121                             NaN                                NaN   \n",
       "120                             NaN                                NaN   \n",
       "122                             NaN                                NaN   \n",
       "115                             NaN                                NaN   \n",
       "114                             NaN                                NaN   \n",
       "\n",
       "    param_clf__estimator__min_samples_leaf  \\\n",
       "119                                    NaN   \n",
       "118                                    NaN   \n",
       "117                                    NaN   \n",
       "116                                    NaN   \n",
       "123                                    NaN   \n",
       "121                                    NaN   \n",
       "120                                    NaN   \n",
       "122                                    NaN   \n",
       "115                                    NaN   \n",
       "114                                    NaN   \n",
       "\n",
       "    param_clf__estimator__min_samples_split param_clf__estimator__C  \\\n",
       "119                                     NaN                       1   \n",
       "118                                     NaN                       1   \n",
       "117                                     NaN                       1   \n",
       "116                                     NaN                       1   \n",
       "123                                     NaN                      10   \n",
       "121                                     NaN                      10   \n",
       "120                                     NaN                      10   \n",
       "122                                     NaN                      10   \n",
       "115                                     NaN                     0.1   \n",
       "114                                     NaN                     0.1   \n",
       "\n",
       "    param_clf__estimator__max_iter param_clf__estimator__penalty  \\\n",
       "119                            200                            l2   \n",
       "118                            150                            l2   \n",
       "117                            100                            l2   \n",
       "116                             50                            l2   \n",
       "123                            200                            l2   \n",
       "121                            100                            l2   \n",
       "120                             50                            l2   \n",
       "122                            150                            l2   \n",
       "115                            200                            l2   \n",
       "114                            150                            l2   \n",
       "\n",
       "                                                params  split0_test_f1  \\\n",
       "119  {'clf__estimator': LogisticRegression(C=1), 'c...        0.615385   \n",
       "118  {'clf__estimator': LogisticRegression(C=1), 'c...        0.615385   \n",
       "117  {'clf__estimator': LogisticRegression(C=1), 'c...        0.615385   \n",
       "116  {'clf__estimator': LogisticRegression(C=1), 'c...        0.615385   \n",
       "123  {'clf__estimator': LogisticRegression(C=1), 'c...        0.614072   \n",
       "121  {'clf__estimator': LogisticRegression(C=1), 'c...        0.614072   \n",
       "120  {'clf__estimator': LogisticRegression(C=1), 'c...        0.614072   \n",
       "122  {'clf__estimator': LogisticRegression(C=1), 'c...        0.614072   \n",
       "115  {'clf__estimator': LogisticRegression(C=1), 'c...        0.613391   \n",
       "114  {'clf__estimator': LogisticRegression(C=1), 'c...        0.613391   \n",
       "\n",
       "     split1_test_f1  split2_test_f1  split3_test_f1  split4_test_f1  \\\n",
       "119        0.569565        0.576763        0.594480        0.615385   \n",
       "118        0.569565        0.576763        0.594480        0.615385   \n",
       "117        0.569565        0.576763        0.594480        0.615385   \n",
       "116        0.570806        0.576763        0.585987        0.612648   \n",
       "123        0.569565        0.568465        0.591966        0.614173   \n",
       "121        0.569565        0.568465        0.591966        0.614173   \n",
       "120        0.569565        0.568465        0.591966        0.614173   \n",
       "122        0.569565        0.568465        0.591966        0.614173   \n",
       "115        0.561947        0.570825        0.580645        0.623274   \n",
       "114        0.561947        0.570825        0.580645        0.623274   \n",
       "\n",
       "     mean_test_f1  std_test_f1  rank_test_f1  split0_train_f1  \\\n",
       "119      0.594316     0.019018             1         0.602249   \n",
       "118      0.594316     0.019018             1         0.602249   \n",
       "117      0.594316     0.019018             1         0.602249   \n",
       "116      0.592318     0.018386             4         0.601842   \n",
       "123      0.591648     0.020177             5         0.602964   \n",
       "121      0.591648     0.020177             5         0.602964   \n",
       "120      0.591648     0.020177             5         0.602964   \n",
       "122      0.591648     0.020177             5         0.602964   \n",
       "115      0.590016     0.024069             9         0.599793   \n",
       "114      0.590016     0.024069             9         0.599793   \n",
       "\n",
       "     split1_train_f1  split2_train_f1  ...  mean_test_precision  \\\n",
       "119         0.616238         0.606918  ...             0.653579   \n",
       "118         0.616238         0.606918  ...             0.653579   \n",
       "117         0.616238         0.606918  ...             0.653579   \n",
       "116         0.615229         0.607741  ...             0.651807   \n",
       "123         0.614610         0.607925  ...             0.649142   \n",
       "121         0.614610         0.607925  ...             0.649142   \n",
       "120         0.614610         0.607925  ...             0.649142   \n",
       "122         0.614610         0.607925  ...             0.649142   \n",
       "115         0.612788         0.603393  ...             0.657877   \n",
       "114         0.612788         0.603393  ...             0.657877   \n",
       "\n",
       "     std_test_precision  rank_test_precision  split0_train_precision  \\\n",
       "119            0.049077                   66                0.655902   \n",
       "118            0.049077                   66                0.655902   \n",
       "117            0.049077                   66                0.655902   \n",
       "116            0.045764                   71                0.656250   \n",
       "123            0.047909                   80                0.656285   \n",
       "121            0.047909                   80                0.656285   \n",
       "120            0.047909                   80                0.656285   \n",
       "122            0.047909                   80                0.656285   \n",
       "115            0.048365                   51                0.662100   \n",
       "114            0.048365                   51                0.662100   \n",
       "\n",
       "     split1_train_precision  split2_train_precision  split3_train_precision  \\\n",
       "119                0.664130                0.665517                0.660487   \n",
       "118                0.664130                0.665517                0.660487   \n",
       "117                0.664130                0.665517                0.660487   \n",
       "116                0.663043                0.664760                0.661234   \n",
       "123                0.661605                0.662500                0.660161   \n",
       "121                0.661605                0.662500                0.660161   \n",
       "120                0.661605                0.662500                0.659770   \n",
       "122                0.661605                0.662500                0.660161   \n",
       "115                0.671525                0.670991                0.665862   \n",
       "114                0.671525                0.670991                0.665862   \n",
       "\n",
       "     split4_train_precision  mean_train_precision  std_train_precision  \\\n",
       "119                0.665463              0.662300             0.003686   \n",
       "118                0.665463              0.662300             0.003686   \n",
       "117                0.665463              0.662300             0.003686   \n",
       "116                0.665054              0.662068             0.003214   \n",
       "123                0.659118              0.659934             0.002164   \n",
       "121                0.659118              0.659934             0.002164   \n",
       "120                0.659118              0.659856             0.002161   \n",
       "122                0.659118              0.659934             0.002164   \n",
       "115                0.667081              0.667512             0.003475   \n",
       "114                0.667081              0.667512             0.003475   \n",
       "\n",
       "     split0_test_recall  split1_test_recall  split2_test_recall  \\\n",
       "119            0.597510            0.555085            0.532567   \n",
       "118            0.597510            0.555085            0.532567   \n",
       "117            0.597510            0.555085            0.532567   \n",
       "116            0.597510            0.555085            0.532567   \n",
       "123            0.597510            0.555085            0.524904   \n",
       "121            0.597510            0.555085            0.524904   \n",
       "120            0.597510            0.555085            0.524904   \n",
       "122            0.597510            0.555085            0.524904   \n",
       "115            0.589212            0.538136            0.517241   \n",
       "114            0.589212            0.538136            0.517241   \n",
       "\n",
       "     split3_test_recall  split4_test_recall  mean_test_recall  \\\n",
       "119            0.510949            0.543554          0.547933   \n",
       "118            0.510949            0.543554          0.547933   \n",
       "117            0.510949            0.543554          0.547933   \n",
       "116            0.503650            0.540070          0.545776   \n",
       "123            0.510949            0.543554          0.546400   \n",
       "121            0.510949            0.543554          0.546400   \n",
       "120            0.510949            0.543554          0.546400   \n",
       "122            0.510949            0.543554          0.546400   \n",
       "115            0.492701            0.550523          0.537562   \n",
       "114            0.492701            0.550523          0.537562   \n",
       "\n",
       "     std_test_recall  rank_test_recall  split0_train_recall  \\\n",
       "119         0.028748                 1             0.556711   \n",
       "118         0.028748                 1             0.556711   \n",
       "117         0.028748                 1             0.556711   \n",
       "116         0.030805                 8             0.555766   \n",
       "123         0.029714                 4             0.557656   \n",
       "121         0.029714                 4             0.557656   \n",
       "120         0.029714                 4             0.557656   \n",
       "122         0.029714                 4             0.557656   \n",
       "115         0.032439                 9             0.548204   \n",
       "114         0.032439                 9             0.548204   \n",
       "\n",
       "     split1_train_recall  split2_train_recall  split3_train_recall  \\\n",
       "119             0.574788             0.557803             0.556098   \n",
       "118             0.574788             0.557803             0.556098   \n",
       "117             0.574788             0.557803             0.556098   \n",
       "116             0.573848             0.559730             0.554146   \n",
       "123             0.573848             0.561657             0.560976   \n",
       "121             0.573848             0.561657             0.560976   \n",
       "120             0.573848             0.561657             0.560000   \n",
       "122             0.573848             0.561657             0.560976   \n",
       "115             0.563500             0.548170             0.538537   \n",
       "114             0.563500             0.548170             0.538537   \n",
       "\n",
       "     split4_train_recall  mean_train_recall  std_train_recall  \n",
       "119             0.546443           0.558369          0.009166  \n",
       "118             0.546443           0.558369          0.009166  \n",
       "117             0.546443           0.558369          0.009166  \n",
       "116             0.543478           0.557394          0.009829  \n",
       "123             0.546443           0.560116          0.008771  \n",
       "121             0.546443           0.560116          0.008771  \n",
       "120             0.546443           0.559921          0.008761  \n",
       "122             0.546443           0.560116          0.008771  \n",
       "115             0.530632           0.545808          0.011023  \n",
       "114             0.530632           0.545808          0.011023  \n",
       "\n",
       "[10 rows x 74 columns]"
      ]
     },
     "execution_count": 17,
     "metadata": {},
     "output_type": "execute_result"
    }
   ],
   "source": [
    "pd.set_option('display.max_columns', 50)\n",
    "pd.set_option('display.max_rows', 50)\n",
    "result = pd.DataFrame(gscv.cv_results_).sort_values(by = 'rank_test_f1')\n",
    "result.head(10)"
   ]
  },
  {
   "cell_type": "markdown",
   "metadata": {
    "id": "lgqdGr3-ZQL_"
   },
   "source": [
    "Podemos observar que los hiperparámetros escogidos son modelo regresión logística con C=1, max_iter=100 y penalización l2."
   ]
  },
  {
   "cell_type": "code",
   "execution_count": 18,
   "metadata": {
    "colab": {
     "base_uri": "https://localhost:8080/"
    },
    "id": "C6j9zfZCXMH9",
    "outputId": "faabb764-cb06-4890-d903-bdf77e1d220e"
   },
   "outputs": [
    {
     "data": {
      "text/plain": [
       "{'clf__estimator': LogisticRegression(C=1),\n",
       " 'clf__estimator__C': 1,\n",
       " 'clf__estimator__max_iter': 100,\n",
       " 'clf__estimator__penalty': 'l2'}"
      ]
     },
     "execution_count": 18,
     "metadata": {},
     "output_type": "execute_result"
    }
   ],
   "source": [
    "gscv.best_params_"
   ]
  },
  {
   "cell_type": "markdown",
   "metadata": {
    "id": "iSvMO5kAZdfk"
   },
   "source": [
    "Es curioso que nuestros resultados escojan a la regresión logística que es un algoritmo en principio simple sobre dos ensambles como lo son RandomForest y XGBoost. Esto nos indica que las asunciones del modelo de regresión logística se ajustan notoriamente mejor a los datos presentados y la forma en la que predicen la variable objetivo."
   ]
  },
  {
   "cell_type": "code",
   "execution_count": 19,
   "metadata": {
    "id": "I-c5zjNTe-zm"
   },
   "outputs": [],
   "source": [
    "#Guardar el mejor modelo\n",
    "estimator = gscv.best_estimator_\n"
   ]
  },
  {
   "cell_type": "markdown",
   "metadata": {
    "id": "MBwlSF9Cge0y"
   },
   "source": [
    "### 3.2.2 Resultados con dataset Train"
   ]
  },
  {
   "cell_type": "code",
   "execution_count": 20,
   "metadata": {
    "id": "M37jw_NBgZ_P"
   },
   "outputs": [],
   "source": [
    "y_train_pred = estimator.predict(X_train)"
   ]
  },
  {
   "cell_type": "code",
   "execution_count": 21,
   "metadata": {
    "colab": {
     "base_uri": "https://localhost:8080/"
    },
    "id": "64oMvuWEg3MP",
    "outputId": "db288717-270e-4e00-83f5-7ed06be1383c"
   },
   "outputs": [
    {
     "name": "stdout",
     "output_type": "stream",
     "text": [
      "              precision    recall  f1-score   support\n",
      "\n",
      "           0       0.85      0.89      0.87      3501\n",
      "           1       0.66      0.56      0.61      1299\n",
      "\n",
      "    accuracy                           0.80      4800\n",
      "   macro avg       0.75      0.73      0.74      4800\n",
      "weighted avg       0.80      0.80      0.80      4800\n",
      "\n"
     ]
    }
   ],
   "source": [
    "print(classification_report(y_train, y_train_pred))"
   ]
  },
  {
   "cell_type": "markdown",
   "metadata": {
    "id": "-ddKd91lg8r4"
   },
   "source": [
    "### 3.2.3 Resultados con dataset Test"
   ]
  },
  {
   "cell_type": "code",
   "execution_count": 22,
   "metadata": {
    "id": "F_fojsKug5tB"
   },
   "outputs": [],
   "source": [
    "y_test_pred = estimator.predict(X_test)"
   ]
  },
  {
   "cell_type": "code",
   "execution_count": 23,
   "metadata": {
    "colab": {
     "base_uri": "https://localhost:8080/"
    },
    "id": "jjqFSy4GhBmH",
    "outputId": "f12a12fb-198c-48fc-d2d2-b0a4ebbfc980"
   },
   "outputs": [
    {
     "name": "stdout",
     "output_type": "stream",
     "text": [
      "              precision    recall  f1-score   support\n",
      "\n",
      "           0       0.86      0.89      0.87       907\n",
      "           1       0.61      0.55      0.58       293\n",
      "\n",
      "    accuracy                           0.81      1200\n",
      "   macro avg       0.74      0.72      0.73      1200\n",
      "weighted avg       0.80      0.81      0.80      1200\n",
      "\n"
     ]
    }
   ],
   "source": [
    "print(classification_report(y_test, y_test_pred))"
   ]
  },
  {
   "cell_type": "markdown",
   "metadata": {
    "id": "HIrFZdjvZ8f8"
   },
   "source": [
    "Podemos observar que en este caso el ajuste es adecuado, no observamos ni overfitting ni underfitting, dado que las métricas de recall y precisión son bastante similares entre test y train, esto nos indica además que es probablemente uno de los mejores ajustes entre las opciones posibles con este modelo y que la búsqueda de hiperparámetros se hizo correctamente. Sin embargo, si se quisiera mejorar el modelo aún más podrían considerarse opciones como:\n",
    "\n",
    "- conseguir más datos para el entrenamiento o probar técnicas de oversampling.\n",
    "\n",
    "- Probar con otros hiperparámetros y modelos para ver el rendimiento, una buena opción podría ser una red neuronal, respetando siempre la capacidad computacional de los equipos."
   ]
  },
  {
   "cell_type": "markdown",
   "metadata": {
    "id": "h30XiEiTm0rl"
   },
   "source": [
    "# 4. Guardar modelos\n",
    "Teniendo nuestros dos modelos listos (el base line y el mejor estimador), vamos a proceder a guardarlos en un archivo pickle. Este archivo será posteriormente utilizado en el API Rest"
   ]
  },
  {
   "cell_type": "code",
   "execution_count": 24,
   "metadata": {
    "colab": {
     "base_uri": "https://localhost:8080/"
    },
    "id": "VJv1yydSm3gJ",
    "outputId": "85b11dd7-c713-4a92-8b51-7be65f2a3c94"
   },
   "outputs": [
    {
     "data": {
      "text/plain": [
       "['models/churn-v1.0.pkl']"
      ]
     },
     "execution_count": 24,
     "metadata": {},
     "output_type": "execute_result"
    }
   ],
   "source": [
    "# Saving First model\n",
    "joblib.dump(baseline_model_pipe, 'models/churn-v1.0.pkl')"
   ]
  },
  {
   "cell_type": "code",
   "execution_count": 25,
   "metadata": {
    "colab": {
     "base_uri": "https://localhost:8080/"
    },
    "id": "MmCvjIa26IpM",
    "outputId": "62b64e63-5786-4200-cb5c-aecdb8da4383"
   },
   "outputs": [
    {
     "data": {
      "text/plain": [
       "['models/churn-v2.0.pkl']"
      ]
     },
     "execution_count": 25,
     "metadata": {},
     "output_type": "execute_result"
    }
   ],
   "source": [
    "# Saving Second model\n",
    "joblib.dump(estimator, \"models/churn-v2.0.pkl\")"
   ]
  },
  {
   "cell_type": "markdown",
   "metadata": {
    "id": "qbPcnxgXm_tb"
   },
   "source": [
    "## 4.1 Particularidades"
   ]
  },
  {
   "cell_type": "markdown",
   "metadata": {
    "id": "Ptg8-Fq2mZnk"
   },
   "source": [
    "Ahora, podemos ver que ambos modelos presentan funciones externas en sus Pipelines, por esta razón será necesario importarlas también en el ApiRest."
   ]
  },
  {
   "cell_type": "code",
   "execution_count": 26,
   "metadata": {
    "colab": {
     "base_uri": "https://localhost:8080/"
    },
    "id": "Lm5baGfsmO3J",
    "outputId": "05022710-92c9-437e-e448-f052a45d26d8"
   },
   "outputs": [
    {
     "data": {
      "text/plain": [
       "[('custom_proccesing', CustomTransformer()),\n",
       " ('transformer',\n",
       "  ColumnTransformer(remainder='passthrough',\n",
       "                    transformers=[('num', StandardScaler(),\n",
       "                                   <sklearn.compose._column_transformer.make_column_selector object at 0x7f6d5d58f3d0>),\n",
       "                                  ('categorical', OneHotEncoder(sparse=False),\n",
       "                                   <sklearn.compose._column_transformer.make_column_selector object at 0x7f6d5d584cd0>)])),\n",
       " ('decision_tree', DecisionTreeClassifier(max_depth=10, random_state=24))]"
      ]
     },
     "execution_count": 26,
     "metadata": {},
     "output_type": "execute_result"
    }
   ],
   "source": [
    "baseline_model_pipe.steps"
   ]
  },
  {
   "cell_type": "code",
   "execution_count": 27,
   "metadata": {
    "colab": {
     "base_uri": "https://localhost:8080/"
    },
    "id": "LXhxVzJXGHa4",
    "outputId": "06936280-fda9-42ec-f66a-edd1173d5048"
   },
   "outputs": [
    {
     "data": {
      "text/plain": [
       "[('custom_proccesing', CustomTransformer()),\n",
       " ('transformer',\n",
       "  ColumnTransformer(remainder='passthrough',\n",
       "                    transformers=[('num', StandardScaler(),\n",
       "                                   <sklearn.compose._column_transformer.make_column_selector object at 0x7f6d5d161f90>),\n",
       "                                  ('categorical',\n",
       "                                   OneHotEncoder(sparse_output=False),\n",
       "                                   <sklearn.compose._column_transformer.make_column_selector object at 0x7f6d5d5621d0>)])),\n",
       " ('clf', ClfSwitcher(estimator=LogisticRegression(C=1)))]"
      ]
     },
     "execution_count": 27,
     "metadata": {},
     "output_type": "execute_result"
    }
   ],
   "source": [
    "estimator.steps"
   ]
  },
  {
   "cell_type": "markdown",
   "metadata": {
    "id": "dVlEfc7lmeec"
   },
   "source": [
    "También es importante que la versión sklearn del ApiRest sea igual que la que fueron entrenados los modelos."
   ]
  },
  {
   "cell_type": "code",
   "execution_count": 28,
   "metadata": {
    "colab": {
     "base_uri": "https://localhost:8080/",
     "height": 36
    },
    "id": "uWY_zG9myRrz",
    "outputId": "c724c2a1-5c2a-4546-dd4e-d0cf83401095"
   },
   "outputs": [
    {
     "data": {
      "text/plain": [
       "'1.3.0'"
      ]
     },
     "execution_count": 28,
     "metadata": {},
     "output_type": "execute_result"
    }
   ],
   "source": [
    "# Check sklearn version\n",
    "import sklearn as sk\n",
    "sk.__version__"
   ]
  },
  {
   "cell_type": "markdown",
   "metadata": {},
   "source": [
    "## 4.2 Probando Modelos"
   ]
  },
  {
   "cell_type": "markdown",
   "metadata": {
    "id": "Kb_3LJ2vmkRH"
   },
   "source": [
    "Por último vamos a simular una petición del ApiRest, para verificar que las predicciones se generan correctamente."
   ]
  },
  {
   "cell_type": "code",
   "execution_count": 29,
   "metadata": {
    "id": "ws8Xhw6Onf4x"
   },
   "outputs": [],
   "source": [
    "# Simulating request dataframe\n",
    "\n",
    "data = [{\n",
    "    \"customerID\": \"7590-VHVEG\",\n",
    "    \"gender\": \"Female\",\n",
    "    \"SeniorCitizen\": 0,\n",
    "    \"Partner\": \"Yes\",\n",
    "    \"Dependents\": \"No\",\n",
    "    \"tenure\": 1,\n",
    "    \"PhoneService\": \"No\",\n",
    "    \"MultipleLines\": \"No\",\n",
    "    \"InternetService\": \"DSL\",\n",
    "    \"OnlineSecurity\": \"No\",\n",
    "    \"OnlineBackup\": \"Yes\",\n",
    "    \"DeviceProtection\": \"No\",\n",
    "    \"TechSupport\": \"No\",\n",
    "    \"StreamingTV\": \"No\",\n",
    "    \"StreamingMovies\": \"No\",\n",
    "    \"Contract\": \"Month-to-month\",\n",
    "    \"PaperlessBilling\": \"Yes\",\n",
    "    \"PaymentMethod\": \"Electronic check\",\n",
    "    \"MonthlyCharges\": 29.85,\n",
    "    \"TotalCharges\": '29.85'\n",
    "}]\n",
    "\n",
    "df = pd.DataFrame([x for x in data])"
   ]
  },
  {
   "cell_type": "code",
   "execution_count": 30,
   "metadata": {
    "colab": {
     "base_uri": "https://localhost:8080/"
    },
    "id": "7xBJLJ2Hmwkm",
    "outputId": "73c6a339-e4f1-41c1-80dd-340c1da5cb59"
   },
   "outputs": [
    {
     "name": "stdout",
     "output_type": "stream",
     "text": [
      "[1]\n",
      "[[0.47474747 0.52525253]]\n"
     ]
    }
   ],
   "source": [
    "# Prediction from pickle file\n",
    "model_v1 = joblib.load('models/churn-v1.0.pkl')\n",
    "result = model_v1.predict(df)\n",
    "probability = model_v1.predict_proba(df)\n",
    "print(result)\n",
    "print(probability)"
   ]
  },
  {
   "cell_type": "code",
   "execution_count": 31,
   "metadata": {
    "id": "-r-Qu3Zkm1_w"
   },
   "outputs": [
    {
     "name": "stdout",
     "output_type": "stream",
     "text": [
      "[1]\n",
      "[[0.34721407 0.65278593]]\n"
     ]
    }
   ],
   "source": [
    "# Prediction from pickle file\n",
    "model_v2 = joblib.load('models/churn-v2.0.pkl')\n",
    "result = model_v2.predict(df)\n",
    "probability = model_v2.predict_proba(df)\n",
    "print(result)\n",
    "print(probability)"
   ]
  },
  {
   "cell_type": "markdown",
   "metadata": {},
   "source": [
    "Podemos ver que ambos modelos pudieron realizar las predicciones sin problema, por ender pueden ser utilizados por el API Rest."
   ]
  },
  {
   "cell_type": "markdown",
   "metadata": {
    "id": "fX9bBlpvm8dI"
   },
   "source": [
    "## 4.3 Explicación del modelo\n",
    "El API Rest también necesita un endpoint para la explicación del modelo, vamos a probar que la libreria SHAP values funcione con estos archivos pickle"
   ]
  },
  {
   "cell_type": "code",
   "execution_count": 32,
   "metadata": {
    "colab": {
     "base_uri": "https://localhost:8080/"
    },
    "id": "sF_iLc2KowAV",
    "outputId": "d4e73ad2-ddc7-4863-c533-355c2b8cf845"
   },
   "outputs": [
    {
     "data": {
      "text/plain": [
       "('decision_tree', DecisionTreeClassifier(max_depth=10, random_state=24))"
      ]
     },
     "execution_count": 32,
     "metadata": {},
     "output_type": "execute_result"
    }
   ],
   "source": [
    "# Creating copy of model\n",
    "transformer = copy.deepcopy(model_v1)\n",
    "transformer.steps.pop() # Removing predictor"
   ]
  },
  {
   "cell_type": "code",
   "execution_count": 33,
   "metadata": {
    "id": "IsWDD0EHnH2v"
   },
   "outputs": [],
   "source": [
    "X_test = pd.DataFrame(\n",
    "   transformer.transform(X_test),\n",
    "    columns=[f.split(\"__\")[1] for f in transformer['transformer'].get_feature_names_out()]\n",
    ")"
   ]
  },
  {
   "cell_type": "code",
   "execution_count": 34,
   "metadata": {
    "colab": {
     "base_uri": "https://localhost:8080/"
    },
    "id": "YTm4tdS3o7vX",
    "outputId": "9fa8b2e1-d6b1-46e0-bef3-837c3322bdd5"
   },
   "outputs": [
    {
     "name": "stderr",
     "output_type": "stream",
     "text": [
      "PermutationExplainer explainer: 1201it [00:14, 27.81it/s]                       \n"
     ]
    }
   ],
   "source": [
    "def model(X):\n",
    "    return model_v1[-1].predict_proba(X)[:,1]\n",
    "\n",
    "explainer = shap.Explainer(model, X_test)\n",
    "\n",
    "# Suppressing the warning\n",
    "with warnings.catch_warnings():\n",
    "    warnings.filterwarnings(\"ignore\", category=UserWarning)\n",
    "    shap_values = explainer(X_test)"
   ]
  },
  {
   "cell_type": "code",
   "execution_count": 35,
   "metadata": {
    "colab": {
     "background_save": true
    },
    "id": "05BS4M9Lpffi",
    "outputId": "45c2bab3-90e7-46c7-dad8-2eee10389f0d"
   },
   "outputs": [
    {
     "data": {
      "image/png": "[encoded data removed]",
      "text/plain": [
       "<Figure size 800x650 with 3 Axes>"
      ]
     },
     "metadata": {},
     "output_type": "display_data"
    }
   ],
   "source": [
    "shap.plots.waterfall(shap_values[837])"
   ]
  },
  {
   "cell_type": "code",
   "execution_count": 36,
   "metadata": {
    "colab": {
     "background_save": true
    },
    "id": "ZBQeY7B2pfvG",
    "outputId": "19cb506b-1b9e-469c-d94a-139189e72c5a"
   },
   "outputs": [
    {
     "data": {
      "image/png": "[encoded data removed]",
      "text/plain": [
       "<Figure size 800x950 with 2 Axes>"
      ]
     },
     "metadata": {},
     "output_type": "display_data"
    }
   ],
   "source": [
    "shap.summary_plot(shap_values, plot_type=\"violin\")"
   ]
  }
 ],
 "metadata": {
  "colab": {
   "provenance": []
  },
  "kernelspec": {
   "display_name": "Python 3 (ipykernel)",
   "language": "python",
   "name": "python3"
  },
  "language_info": {
   "codemirror_mode": {
    "name": "ipython",
    "version": 3
   },
   "file_extension": ".py",
   "mimetype": "text/x-python",
   "name": "python",
   "nbconvert_exporter": "python",
   "pygments_lexer": "ipython3",
   "version": "3.11.4"
  },
  "widgets": {
   "application/vnd.jupyter.widget-state+json": {
    "0837c27946764a8f86dae6d98b758854": {
     "model_module": "@jupyter-widgets/base",
     "model_module_version": "1.2.0",
     "model_name": "LayoutModel",
     "state": {
      "_model_module": "@jupyter-widgets/base",
      "_model_module_version": "1.2.0",
      "_model_name": "LayoutModel",
      "_view_count": null,
      "_view_module": "@jupyter-widgets/base",
      "_view_module_version": "1.2.0",
      "_view_name": "LayoutView",
      "align_content": null,
      "align_items": null,
      "align_self": null,
      "border": null,
      "bottom": null,
      "display": null,
      "flex": null,
      "flex_flow": null,
      "grid_area": null,
      "grid_auto_columns": null,
      "grid_auto_flow": null,
      "grid_auto_rows": null,
      "grid_column": null,
      "grid_gap": null,
      "grid_row": null,
      "grid_template_areas": null,
      "grid_template_columns": null,
      "grid_template_rows": null,
      "height": null,
      "justify_content": null,
      "justify_items": null,
      "left": null,
      "margin": null,
      "max_height": null,
      "max_width": null,
      "min_height": null,
      "min_width": null,
      "object_fit": null,
      "object_position": null,
      "order": null,
      "overflow": null,
      "overflow_x": null,
      "overflow_y": null,
      "padding": null,
      "right": null,
      "top": null,
      "visibility": null,
      "width": null
     }
    },
    "08b09987a4b64a7d95794c18a394443f": {
     "model_module": "@jupyter-widgets/controls",
     "model_module_version": "1.5.0",
     "model_name": "DescriptionStyleModel",
     "state": {
      "_model_module": "@jupyter-widgets/controls",
      "_model_module_version": "1.5.0",
      "_model_name": "DescriptionStyleModel",
      "_view_count": null,
      "_view_module": "@jupyter-widgets/base",
      "_view_module_version": "1.2.0",
      "_view_name": "StyleView",
      "description_width": ""
     }
    },
    "0e72b2bbb55a4b35ae8b5dc0b930ce05": {
     "model_module": "@jupyter-widgets/controls",
     "model_module_version": "1.5.0",
     "model_name": "DescriptionStyleModel",
     "state": {
      "_model_module": "@jupyter-widgets/controls",
      "_model_module_version": "1.5.0",
      "_model_name": "DescriptionStyleModel",
      "_view_count": null,
      "_view_module": "@jupyter-widgets/base",
      "_view_module_version": "1.2.0",
      "_view_name": "StyleView",
      "description_width": ""
     }
    },
    "184e9a2a642a4eaca9b043aa56d32623": {
     "model_module": "@jupyter-widgets/base",
     "model_module_version": "1.2.0",
     "model_name": "LayoutModel",
     "state": {
      "_model_module": "@jupyter-widgets/base",
      "_model_module_version": "1.2.0",
      "_model_name": "LayoutModel",
      "_view_count": null,
      "_view_module": "@jupyter-widgets/base",
      "_view_module_version": "1.2.0",
      "_view_name": "LayoutView",
      "align_content": null,
      "align_items": null,
      "align_self": null,
      "border": null,
      "bottom": null,
      "display": null,
      "flex": null,
      "flex_flow": null,
      "grid_area": null,
      "grid_auto_columns": null,
      "grid_auto_flow": null,
      "grid_auto_rows": null,
      "grid_column": null,
      "grid_gap": null,
      "grid_row": null,
      "grid_template_areas": null,
      "grid_template_columns": null,
      "grid_template_rows": null,
      "height": null,
      "justify_content": null,
      "justify_items": null,
      "left": null,
      "margin": null,
      "max_height": null,
      "max_width": null,
      "min_height": null,
      "min_width": null,
      "object_fit": null,
      "object_position": null,
      "order": null,
      "overflow": null,
      "overflow_x": null,
      "overflow_y": null,
      "padding": null,
      "right": null,
      "top": null,
      "visibility": null,
      "width": null
     }
    },
    "25c660c71a38460ab0024b481428f6bf": {
     "model_module": "@jupyter-widgets/base",
     "model_module_version": "1.2.0",
     "model_name": "LayoutModel",
     "state": {
      "_model_module": "@jupyter-widgets/base",
      "_model_module_version": "1.2.0",
      "_model_name": "LayoutModel",
      "_view_count": null,
      "_view_module": "@jupyter-widgets/base",
      "_view_module_version": "1.2.0",
      "_view_name": "LayoutView",
      "align_content": null,
      "align_items": null,
      "align_self": null,
      "border": null,
      "bottom": null,
      "display": null,
      "flex": null,
      "flex_flow": null,
      "grid_area": null,
      "grid_auto_columns": null,
      "grid_auto_flow": null,
      "grid_auto_rows": null,
      "grid_column": null,
      "grid_gap": null,
      "grid_row": null,
      "grid_template_areas": null,
      "grid_template_columns": null,
      "grid_template_rows": null,
      "height": null,
      "justify_content": null,
      "justify_items": null,
      "left": null,
      "margin": null,
      "max_height": null,
      "max_width": null,
      "min_height": null,
      "min_width": null,
      "object_fit": null,
      "object_position": null,
      "order": null,
      "overflow": null,
      "overflow_x": null,
      "overflow_y": null,
      "padding": null,
      "right": null,
      "top": null,
      "visibility": null,
      "width": null
     }
    },
    "3172cf247b614769acfbe7bdd69ae53a": {
     "model_module": "@jupyter-widgets/controls",
     "model_module_version": "1.5.0",
     "model_name": "HTMLModel",
     "state": {
      "_dom_classes": [],
      "_model_module": "@jupyter-widgets/controls",
      "_model_module_version": "1.5.0",
      "_model_name": "HTMLModel",
      "_view_count": null,
      "_view_module": "@jupyter-widgets/controls",
      "_view_module_version": "1.5.0",
      "_view_name": "HTMLView",
      "description": "",
      "description_tooltip": null,
      "layout": "IPY_MODEL_4e2531646b464c70ad2d7976df7d2724",
      "placeholder": "​",
      "style": "IPY_MODEL_aaf81de3f33542d9afd00eb95fa2e578",
      "value": " 1/1 [00:11&lt;00:00, 11.12s/it]"
     }
    },
    "3a70d89e1c2548d6a151b8187e98e521": {
     "model_module": "@jupyter-widgets/controls",
     "model_module_version": "1.5.0",
     "model_name": "HTMLModel",
     "state": {
      "_dom_classes": [],
      "_model_module": "@jupyter-widgets/controls",
      "_model_module_version": "1.5.0",
      "_model_name": "HTMLModel",
      "_view_count": null,
      "_view_module": "@jupyter-widgets/controls",
      "_view_module_version": "1.5.0",
      "_view_name": "HTMLView",
      "description": "",
      "description_tooltip": null,
      "layout": "IPY_MODEL_63fc041390804f44a076d862f5323bb6",
      "placeholder": "​",
      "style": "IPY_MODEL_541c523af6264b7fb9332e15fc7d601a",
      "value": "Generate report structure: 100%"
     }
    },
    "3bd198d47a734e58958ff8966e537610": {
     "model_module": "@jupyter-widgets/base",
     "model_module_version": "1.2.0",
     "model_name": "LayoutModel",
     "state": {
      "_model_module": "@jupyter-widgets/base",
      "_model_module_version": "1.2.0",
      "_model_name": "LayoutModel",
      "_view_count": null,
      "_view_module": "@jupyter-widgets/base",
      "_view_module_version": "1.2.0",
      "_view_name": "LayoutView",
      "align_content": null,
      "align_items": null,
      "align_self": null,
      "border": null,
      "bottom": null,
      "display": null,
      "flex": null,
      "flex_flow": null,
      "grid_area": null,
      "grid_auto_columns": null,
      "grid_auto_flow": null,
      "grid_auto_rows": null,
      "grid_column": null,
      "grid_gap": null,
      "grid_row": null,
      "grid_template_areas": null,
      "grid_template_columns": null,
      "grid_template_rows": null,
      "height": null,
      "justify_content": null,
      "justify_items": null,
      "left": null,
      "margin": null,
      "max_height": null,
      "max_width": null,
      "min_height": null,
      "min_width": null,
      "object_fit": null,
      "object_position": null,
      "order": null,
      "overflow": null,
      "overflow_x": null,
      "overflow_y": null,
      "padding": null,
      "right": null,
      "top": null,
      "visibility": null,
      "width": null
     }
    },
    "4e2531646b464c70ad2d7976df7d2724": {
     "model_module": "@jupyter-widgets/base",
     "model_module_version": "1.2.0",
     "model_name": "LayoutModel",
     "state": {
      "_model_module": "@jupyter-widgets/base",
      "_model_module_version": "1.2.0",
      "_model_name": "LayoutModel",
      "_view_count": null,
      "_view_module": "@jupyter-widgets/base",
      "_view_module_version": "1.2.0",
      "_view_name": "LayoutView",
      "align_content": null,
      "align_items": null,
      "align_self": null,
      "border": null,
      "bottom": null,
      "display": null,
      "flex": null,
      "flex_flow": null,
      "grid_area": null,
      "grid_auto_columns": null,
      "grid_auto_flow": null,
      "grid_auto_rows": null,
      "grid_column": null,
      "grid_gap": null,
      "grid_row": null,
      "grid_template_areas": null,
      "grid_template_columns": null,
      "grid_template_rows": null,
      "height": null,
      "justify_content": null,
      "justify_items": null,
      "left": null,
      "margin": null,
      "max_height": null,
      "max_width": null,
      "min_height": null,
      "min_width": null,
      "object_fit": null,
      "object_position": null,
      "order": null,
      "overflow": null,
      "overflow_x": null,
      "overflow_y": null,
      "padding": null,
      "right": null,
      "top": null,
      "visibility": null,
      "width": null
     }
    },
    "4f1bb71d055b42b0a965b246a17f1c5c": {
     "model_module": "@jupyter-widgets/controls",
     "model_module_version": "1.5.0",
     "model_name": "FloatProgressModel",
     "state": {
      "_dom_classes": [],
      "_model_module": "@jupyter-widgets/controls",
      "_model_module_version": "1.5.0",
      "_model_name": "FloatProgressModel",
      "_view_count": null,
      "_view_module": "@jupyter-widgets/controls",
      "_view_module_version": "1.5.0",
      "_view_name": "ProgressView",
      "bar_style": "success",
      "description": "",
      "description_tooltip": null,
      "layout": "IPY_MODEL_3bd198d47a734e58958ff8966e537610",
      "max": 1,
      "min": 0,
      "orientation": "horizontal",
      "style": "IPY_MODEL_a84d885138ac4edb8e524f4dd5ea38e5",
      "value": 1
     }
    },
    "541c523af6264b7fb9332e15fc7d601a": {
     "model_module": "@jupyter-widgets/controls",
     "model_module_version": "1.5.0",
     "model_name": "DescriptionStyleModel",
     "state": {
      "_model_module": "@jupyter-widgets/controls",
      "_model_module_version": "1.5.0",
      "_model_name": "DescriptionStyleModel",
      "_view_count": null,
      "_view_module": "@jupyter-widgets/base",
      "_view_module_version": "1.2.0",
      "_view_name": "StyleView",
      "description_width": ""
     }
    },
    "556fb31171744b73a45b70dd7dd524e4": {
     "model_module": "@jupyter-widgets/controls",
     "model_module_version": "1.5.0",
     "model_name": "HTMLModel",
     "state": {
      "_dom_classes": [],
      "_model_module": "@jupyter-widgets/controls",
      "_model_module_version": "1.5.0",
      "_model_name": "HTMLModel",
      "_view_count": null,
      "_view_module": "@jupyter-widgets/controls",
      "_view_module_version": "1.5.0",
      "_view_name": "HTMLView",
      "description": "",
      "description_tooltip": null,
      "layout": "IPY_MODEL_0837c27946764a8f86dae6d98b758854",
      "placeholder": "​",
      "style": "IPY_MODEL_69ce81d0237748a2ad7ea063063db29f",
      "value": " 1/1 [00:01&lt;00:00,  1.60s/it]"
     }
    },
    "63fc041390804f44a076d862f5323bb6": {
     "model_module": "@jupyter-widgets/base",
     "model_module_version": "1.2.0",
     "model_name": "LayoutModel",
     "state": {
      "_model_module": "@jupyter-widgets/base",
      "_model_module_version": "1.2.0",
      "_model_name": "LayoutModel",
      "_view_count": null,
      "_view_module": "@jupyter-widgets/base",
      "_view_module_version": "1.2.0",
      "_view_name": "LayoutView",
      "align_content": null,
      "align_items": null,
      "align_self": null,
      "border": null,
      "bottom": null,
      "display": null,
      "flex": null,
      "flex_flow": null,
      "grid_area": null,
      "grid_auto_columns": null,
      "grid_auto_flow": null,
      "grid_auto_rows": null,
      "grid_column": null,
      "grid_gap": null,
      "grid_row": null,
      "grid_template_areas": null,
      "grid_template_columns": null,
      "grid_template_rows": null,
      "height": null,
      "justify_content": null,
      "justify_items": null,
      "left": null,
      "margin": null,
      "max_height": null,
      "max_width": null,
      "min_height": null,
      "min_width": null,
      "object_fit": null,
      "object_position": null,
      "order": null,
      "overflow": null,
      "overflow_x": null,
      "overflow_y": null,
      "padding": null,
      "right": null,
      "top": null,
      "visibility": null,
      "width": null
     }
    },
    "66d69b2943d546d0985b2e13e00f9ba4": {
     "model_module": "@jupyter-widgets/controls",
     "model_module_version": "1.5.0",
     "model_name": "HTMLModel",
     "state": {
      "_dom_classes": [],
      "_model_module": "@jupyter-widgets/controls",
      "_model_module_version": "1.5.0",
      "_model_name": "HTMLModel",
      "_view_count": null,
      "_view_module": "@jupyter-widgets/controls",
      "_view_module_version": "1.5.0",
      "_view_name": "HTMLView",
      "description": "",
      "description_tooltip": null,
      "layout": "IPY_MODEL_25c660c71a38460ab0024b481428f6bf",
      "placeholder": "​",
      "style": "IPY_MODEL_0e72b2bbb55a4b35ae8b5dc0b930ce05",
      "value": "Render HTML: 100%"
     }
    },
    "69ce81d0237748a2ad7ea063063db29f": {
     "model_module": "@jupyter-widgets/controls",
     "model_module_version": "1.5.0",
     "model_name": "DescriptionStyleModel",
     "state": {
      "_model_module": "@jupyter-widgets/controls",
      "_model_module_version": "1.5.0",
      "_model_name": "DescriptionStyleModel",
      "_view_count": null,
      "_view_module": "@jupyter-widgets/base",
      "_view_module_version": "1.2.0",
      "_view_name": "StyleView",
      "description_width": ""
     }
    },
    "6e108bbc985e4bdca5933c2d7ba4e7a9": {
     "model_module": "@jupyter-widgets/controls",
     "model_module_version": "1.5.0",
     "model_name": "HBoxModel",
     "state": {
      "_dom_classes": [],
      "_model_module": "@jupyter-widgets/controls",
      "_model_module_version": "1.5.0",
      "_model_name": "HBoxModel",
      "_view_count": null,
      "_view_module": "@jupyter-widgets/controls",
      "_view_module_version": "1.5.0",
      "_view_name": "HBoxView",
      "box_style": "",
      "children": [
       "IPY_MODEL_66d69b2943d546d0985b2e13e00f9ba4",
       "IPY_MODEL_983d1740338d4017a929cbf89bb7e9b9",
       "IPY_MODEL_556fb31171744b73a45b70dd7dd524e4"
      ],
      "layout": "IPY_MODEL_f16e35252fe64380b0175ea2d31b4b45"
     }
    },
    "75d8fb966bb147138e5d898807e40d6c": {
     "model_module": "@jupyter-widgets/controls",
     "model_module_version": "1.5.0",
     "model_name": "HBoxModel",
     "state": {
      "_dom_classes": [],
      "_model_module": "@jupyter-widgets/controls",
      "_model_module_version": "1.5.0",
      "_model_name": "HBoxModel",
      "_view_count": null,
      "_view_module": "@jupyter-widgets/controls",
      "_view_module_version": "1.5.0",
      "_view_name": "HBoxView",
      "box_style": "",
      "children": [
       "IPY_MODEL_3a70d89e1c2548d6a151b8187e98e521",
       "IPY_MODEL_4f1bb71d055b42b0a965b246a17f1c5c",
       "IPY_MODEL_3172cf247b614769acfbe7bdd69ae53a"
      ],
      "layout": "IPY_MODEL_a698eef9a0b2453b8abd00de6eeaadd4"
     }
    },
    "774938f355e74994a699676b788baeea": {
     "model_module": "@jupyter-widgets/controls",
     "model_module_version": "1.5.0",
     "model_name": "ProgressStyleModel",
     "state": {
      "_model_module": "@jupyter-widgets/controls",
      "_model_module_version": "1.5.0",
      "_model_name": "ProgressStyleModel",
      "_view_count": null,
      "_view_module": "@jupyter-widgets/base",
      "_view_module_version": "1.2.0",
      "_view_name": "StyleView",
      "bar_color": null,
      "description_width": ""
     }
    },
    "983d1740338d4017a929cbf89bb7e9b9": {
     "model_module": "@jupyter-widgets/controls",
     "model_module_version": "1.5.0",
     "model_name": "FloatProgressModel",
     "state": {
      "_dom_classes": [],
      "_model_module": "@jupyter-widgets/controls",
      "_model_module_version": "1.5.0",
      "_model_name": "FloatProgressModel",
      "_view_count": null,
      "_view_module": "@jupyter-widgets/controls",
      "_view_module_version": "1.5.0",
      "_view_name": "ProgressView",
      "bar_style": "success",
      "description": "",
      "description_tooltip": null,
      "layout": "IPY_MODEL_184e9a2a642a4eaca9b043aa56d32623",
      "max": 1,
      "min": 0,
      "orientation": "horizontal",
      "style": "IPY_MODEL_774938f355e74994a699676b788baeea",
      "value": 1
     }
    },
    "9edb85b688ae446fa105252ac32f395b": {
     "model_module": "@jupyter-widgets/base",
     "model_module_version": "1.2.0",
     "model_name": "LayoutModel",
     "state": {
      "_model_module": "@jupyter-widgets/base",
      "_model_module_version": "1.2.0",
      "_model_name": "LayoutModel",
      "_view_count": null,
      "_view_module": "@jupyter-widgets/base",
      "_view_module_version": "1.2.0",
      "_view_name": "LayoutView",
      "align_content": null,
      "align_items": null,
      "align_self": null,
      "border": null,
      "bottom": null,
      "display": null,
      "flex": null,
      "flex_flow": null,
      "grid_area": null,
      "grid_auto_columns": null,
      "grid_auto_flow": null,
      "grid_auto_rows": null,
      "grid_column": null,
      "grid_gap": null,
      "grid_row": null,
      "grid_template_areas": null,
      "grid_template_columns": null,
      "grid_template_rows": null,
      "height": null,
      "justify_content": null,
      "justify_items": null,
      "left": null,
      "margin": null,
      "max_height": null,
      "max_width": null,
      "min_height": null,
      "min_width": null,
      "object_fit": null,
      "object_position": null,
      "order": null,
      "overflow": null,
      "overflow_x": null,
      "overflow_y": null,
      "padding": null,
      "right": null,
      "top": null,
      "visibility": null,
      "width": null
     }
    },
    "a20553f810784d5db729fd2fe9873f61": {
     "model_module": "@jupyter-widgets/controls",
     "model_module_version": "1.5.0",
     "model_name": "DescriptionStyleModel",
     "state": {
      "_model_module": "@jupyter-widgets/controls",
      "_model_module_version": "1.5.0",
      "_model_name": "DescriptionStyleModel",
      "_view_count": null,
      "_view_module": "@jupyter-widgets/base",
      "_view_module_version": "1.2.0",
      "_view_name": "StyleView",
      "description_width": ""
     }
    },
    "a4fa9e641688419399230be1da61a2aa": {
     "model_module": "@jupyter-widgets/controls",
     "model_module_version": "1.5.0",
     "model_name": "HTMLModel",
     "state": {
      "_dom_classes": [],
      "_model_module": "@jupyter-widgets/controls",
      "_model_module_version": "1.5.0",
      "_model_name": "HTMLModel",
      "_view_count": null,
      "_view_module": "@jupyter-widgets/controls",
      "_view_module_version": "1.5.0",
      "_view_name": "HTMLView",
      "description": "",
      "description_tooltip": null,
      "layout": "IPY_MODEL_ed469769361e4d058bf7b94cf2713a89",
      "placeholder": "​",
      "style": "IPY_MODEL_08b09987a4b64a7d95794c18a394443f",
      "value": " 34/34 [00:07&lt;00:00,  2.57it/s, Completed]"
     }
    },
    "a698eef9a0b2453b8abd00de6eeaadd4": {
     "model_module": "@jupyter-widgets/base",
     "model_module_version": "1.2.0",
     "model_name": "LayoutModel",
     "state": {
      "_model_module": "@jupyter-widgets/base",
      "_model_module_version": "1.2.0",
      "_model_name": "LayoutModel",
      "_view_count": null,
      "_view_module": "@jupyter-widgets/base",
      "_view_module_version": "1.2.0",
      "_view_name": "LayoutView",
      "align_content": null,
      "align_items": null,
      "align_self": null,
      "border": null,
      "bottom": null,
      "display": null,
      "flex": null,
      "flex_flow": null,
      "grid_area": null,
      "grid_auto_columns": null,
      "grid_auto_flow": null,
      "grid_auto_rows": null,
      "grid_column": null,
      "grid_gap": null,
      "grid_row": null,
      "grid_template_areas": null,
      "grid_template_columns": null,
      "grid_template_rows": null,
      "height": null,
      "justify_content": null,
      "justify_items": null,
      "left": null,
      "margin": null,
      "max_height": null,
      "max_width": null,
      "min_height": null,
      "min_width": null,
      "object_fit": null,
      "object_position": null,
      "order": null,
      "overflow": null,
      "overflow_x": null,
      "overflow_y": null,
      "padding": null,
      "right": null,
      "top": null,
      "visibility": null,
      "width": null
     }
    },
    "a84d885138ac4edb8e524f4dd5ea38e5": {
     "model_module": "@jupyter-widgets/controls",
     "model_module_version": "1.5.0",
     "model_name": "ProgressStyleModel",
     "state": {
      "_model_module": "@jupyter-widgets/controls",
      "_model_module_version": "1.5.0",
      "_model_name": "ProgressStyleModel",
      "_view_count": null,
      "_view_module": "@jupyter-widgets/base",
      "_view_module_version": "1.2.0",
      "_view_name": "StyleView",
      "bar_color": null,
      "description_width": ""
     }
    },
    "aaf81de3f33542d9afd00eb95fa2e578": {
     "model_module": "@jupyter-widgets/controls",
     "model_module_version": "1.5.0",
     "model_name": "DescriptionStyleModel",
     "state": {
      "_model_module": "@jupyter-widgets/controls",
      "_model_module_version": "1.5.0",
      "_model_name": "DescriptionStyleModel",
      "_view_count": null,
      "_view_module": "@jupyter-widgets/base",
      "_view_module_version": "1.2.0",
      "_view_name": "StyleView",
      "description_width": ""
     }
    },
    "bcbee8133293413d876f8af74050dd0f": {
     "model_module": "@jupyter-widgets/controls",
     "model_module_version": "1.5.0",
     "model_name": "ProgressStyleModel",
     "state": {
      "_model_module": "@jupyter-widgets/controls",
      "_model_module_version": "1.5.0",
      "_model_name": "ProgressStyleModel",
      "_view_count": null,
      "_view_module": "@jupyter-widgets/base",
      "_view_module_version": "1.2.0",
      "_view_name": "StyleView",
      "bar_color": null,
      "description_width": ""
     }
    },
    "c5e4cd9e729c40af89b2ff44094e16b6": {
     "model_module": "@jupyter-widgets/controls",
     "model_module_version": "1.5.0",
     "model_name": "FloatProgressModel",
     "state": {
      "_dom_classes": [],
      "_model_module": "@jupyter-widgets/controls",
      "_model_module_version": "1.5.0",
      "_model_name": "FloatProgressModel",
      "_view_count": null,
      "_view_module": "@jupyter-widgets/controls",
      "_view_module_version": "1.5.0",
      "_view_name": "ProgressView",
      "bar_style": "success",
      "description": "",
      "description_tooltip": null,
      "layout": "IPY_MODEL_9edb85b688ae446fa105252ac32f395b",
      "max": 5,
      "min": 0,
      "orientation": "horizontal",
      "style": "IPY_MODEL_bcbee8133293413d876f8af74050dd0f",
      "value": 5
     }
    },
    "c7a99a28ab61449184230ea800863aa9": {
     "model_module": "@jupyter-widgets/controls",
     "model_module_version": "1.5.0",
     "model_name": "HBoxModel",
     "state": {
      "_dom_classes": [],
      "_model_module": "@jupyter-widgets/controls",
      "_model_module_version": "1.5.0",
      "_model_name": "HBoxModel",
      "_view_count": null,
      "_view_module": "@jupyter-widgets/controls",
      "_view_module_version": "1.5.0",
      "_view_name": "HBoxView",
      "box_style": "",
      "children": [
       "IPY_MODEL_e1ae56d22b6d400f91c17fb26763687f",
       "IPY_MODEL_c5e4cd9e729c40af89b2ff44094e16b6",
       "IPY_MODEL_a4fa9e641688419399230be1da61a2aa"
      ],
      "layout": "IPY_MODEL_d4d1e344ba8a4e5a828172c9c70b28b5"
     }
    },
    "d4d1e344ba8a4e5a828172c9c70b28b5": {
     "model_module": "@jupyter-widgets/base",
     "model_module_version": "1.2.0",
     "model_name": "LayoutModel",
     "state": {
      "_model_module": "@jupyter-widgets/base",
      "_model_module_version": "1.2.0",
      "_model_name": "LayoutModel",
      "_view_count": null,
      "_view_module": "@jupyter-widgets/base",
      "_view_module_version": "1.2.0",
      "_view_name": "LayoutView",
      "align_content": null,
      "align_items": null,
      "align_self": null,
      "border": null,
      "bottom": null,
      "display": null,
      "flex": null,
      "flex_flow": null,
      "grid_area": null,
      "grid_auto_columns": null,
      "grid_auto_flow": null,
      "grid_auto_rows": null,
      "grid_column": null,
      "grid_gap": null,
      "grid_row": null,
      "grid_template_areas": null,
      "grid_template_columns": null,
      "grid_template_rows": null,
      "height": null,
      "justify_content": null,
      "justify_items": null,
      "left": null,
      "margin": null,
      "max_height": null,
      "max_width": null,
      "min_height": null,
      "min_width": null,
      "object_fit": null,
      "object_position": null,
      "order": null,
      "overflow": null,
      "overflow_x": null,
      "overflow_y": null,
      "padding": null,
      "right": null,
      "top": null,
      "visibility": null,
      "width": null
     }
    },
    "e1ae56d22b6d400f91c17fb26763687f": {
     "model_module": "@jupyter-widgets/controls",
     "model_module_version": "1.5.0",
     "model_name": "HTMLModel",
     "state": {
      "_dom_classes": [],
      "_model_module": "@jupyter-widgets/controls",
      "_model_module_version": "1.5.0",
      "_model_name": "HTMLModel",
      "_view_count": null,
      "_view_module": "@jupyter-widgets/controls",
      "_view_module_version": "1.5.0",
      "_view_name": "HTMLView",
      "description": "",
      "description_tooltip": null,
      "layout": "IPY_MODEL_e6b7e45e1f154fba9769426acf558642",
      "placeholder": "​",
      "style": "IPY_MODEL_a20553f810784d5db729fd2fe9873f61",
      "value": "Summarize dataset: 100%"
     }
    },
    "e6b7e45e1f154fba9769426acf558642": {
     "model_module": "@jupyter-widgets/base",
     "model_module_version": "1.2.0",
     "model_name": "LayoutModel",
     "state": {
      "_model_module": "@jupyter-widgets/base",
      "_model_module_version": "1.2.0",
      "_model_name": "LayoutModel",
      "_view_count": null,
      "_view_module": "@jupyter-widgets/base",
      "_view_module_version": "1.2.0",
      "_view_name": "LayoutView",
      "align_content": null,
      "align_items": null,
      "align_self": null,
      "border": null,
      "bottom": null,
      "display": null,
      "flex": null,
      "flex_flow": null,
      "grid_area": null,
      "grid_auto_columns": null,
      "grid_auto_flow": null,
      "grid_auto_rows": null,
      "grid_column": null,
      "grid_gap": null,
      "grid_row": null,
      "grid_template_areas": null,
      "grid_template_columns": null,
      "grid_template_rows": null,
      "height": null,
      "justify_content": null,
      "justify_items": null,
      "left": null,
      "margin": null,
      "max_height": null,
      "max_width": null,
      "min_height": null,
      "min_width": null,
      "object_fit": null,
      "object_position": null,
      "order": null,
      "overflow": null,
      "overflow_x": null,
      "overflow_y": null,
      "padding": null,
      "right": null,
      "top": null,
      "visibility": null,
      "width": null
     }
    },
    "ed469769361e4d058bf7b94cf2713a89": {
     "model_module": "@jupyter-widgets/base",
     "model_module_version": "1.2.0",
     "model_name": "LayoutModel",
     "state": {
      "_model_module": "@jupyter-widgets/base",
      "_model_module_version": "1.2.0",
      "_model_name": "LayoutModel",
      "_view_count": null,
      "_view_module": "@jupyter-widgets/base",
      "_view_module_version": "1.2.0",
      "_view_name": "LayoutView",
      "align_content": null,
      "align_items": null,
      "align_self": null,
      "border": null,
      "bottom": null,
      "display": null,
      "flex": null,
      "flex_flow": null,
      "grid_area": null,
      "grid_auto_columns": null,
      "grid_auto_flow": null,
      "grid_auto_rows": null,
      "grid_column": null,
      "grid_gap": null,
      "grid_row": null,
      "grid_template_areas": null,
      "grid_template_columns": null,
      "grid_template_rows": null,
      "height": null,
      "justify_content": null,
      "justify_items": null,
      "left": null,
      "margin": null,
      "max_height": null,
      "max_width": null,
      "min_height": null,
      "min_width": null,
      "object_fit": null,
      "object_position": null,
      "order": null,
      "overflow": null,
      "overflow_x": null,
      "overflow_y": null,
      "padding": null,
      "right": null,
      "top": null,
      "visibility": null,
      "width": null
     }
    },
    "f16e35252fe64380b0175ea2d31b4b45": {
     "model_module": "@jupyter-widgets/base",
     "model_module_version": "1.2.0",
     "model_name": "LayoutModel",
     "state": {
      "_model_module": "@jupyter-widgets/base",
      "_model_module_version": "1.2.0",
      "_model_name": "LayoutModel",
      "_view_count": null,
      "_view_module": "@jupyter-widgets/base",
      "_view_module_version": "1.2.0",
      "_view_name": "LayoutView",
      "align_content": null,
      "align_items": null,
      "align_self": null,
      "border": null,
      "bottom": null,
      "display": null,
      "flex": null,
      "flex_flow": null,
      "grid_area": null,
      "grid_auto_columns": null,
      "grid_auto_flow": null,
      "grid_auto_rows": null,
      "grid_column": null,
      "grid_gap": null,
      "grid_row": null,
      "grid_template_areas": null,
      "grid_template_columns": null,
      "grid_template_rows": null,
      "height": null,
      "justify_content": null,
      "justify_items": null,
      "left": null,
      "margin": null,
      "max_height": null,
      "max_width": null,
      "min_height": null,
      "min_width": null,
      "object_fit": null,
      "object_position": null,
      "order": null,
      "overflow": null,
      "overflow_x": null,
      "overflow_y": null,
      "padding": null,
      "right": null,
      "top": null,
      "visibility": null,
      "width": null
     }
    }
   }
  }
 },
 "nbformat": 4,
 "nbformat_minor": 1
}
